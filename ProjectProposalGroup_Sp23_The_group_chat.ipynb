{
 "cells": [
  {
   "attachments": {},
   "cell_type": "markdown",
   "metadata": {},
   "source": [
    "# COGS 108 - Final Project Proposal"
   ]
  },
  {
   "attachments": {},
   "cell_type": "markdown",
   "metadata": {},
   "source": [
    "# Names\n",
    "\n",
    "- Mateo Ignacio\n",
    "- Samuel Piltch\n",
    "- Nate del Rosario 🐐\n",
    "- Lisa Hwang\n",
    "- Geovaunii D. White\n"
   ]
  },
  {
   "attachments": {},
   "cell_type": "markdown",
   "metadata": {},
   "source": [
    "# Research Question"
   ]
  },
  {
   "attachments": {},
   "cell_type": "markdown",
   "metadata": {},
   "source": [
    "Since we’ve never worked with audio data or classification of audio data we wanted to try working with data that is structured as such. \n",
    "We ask the question: how do the audio features from songs, specifically Spotify Tracks compare to each other? \n",
    "\n",
    "**Here is where we lost points, and we are addressing it by making our question more thorugh about the features we will be discussing and the relationship between them**\n",
    "\n",
    "Is there a relationship between the some of these features such as tempo correlating with danceability/energy/liveness and if so how are they correlated. Additionally, how can we use these features to cluster songs based on these audio tracks of songs being coverted to numeric features?"
   ]
  },
  {
   "attachments": {},
   "cell_type": "markdown",
   "metadata": {},
   "source": [
    "## Background and Prior Work"
   ]
  },
  {
   "attachments": {},
   "cell_type": "markdown",
   "metadata": {},
   "source": [
    "In our project, we will be working to create an algorithm that can can cluster songs based on the differences in audio features between different genres. This type of model has been before for uses in recommender systems and identifying user personas."
   ]
  },
  {
   "attachments": {},
   "cell_type": "markdown",
   "metadata": {},
   "source": [
    "In our project, we will look for a multicollinearity relationship between the characteristics of songs such as tempo and danceability and energy. Although songs are not made scientifically there are obvious intentions when making music to fit a specific sound or genre. The data generating process comes from the Spotify api which provides us numeric data on songs and artists. With this we will try to classify songs based on their computational similarities. \n",
    "\n",
    "Clustering based on musical similarities is actually the fundamental thought behind Spotify’s own recommender. In this video the the creator of the Spotify recommended system, Erik Berhardsson, describes his creative process and describes using matrix factorization to find similarities of songs which through interactions with users and their qualities. With this method genres cluster well meaning this evaluation of similarity works. He then used a method of approximate nearest neighbors where he could find similar tracks from the vector representations of these songs and their qualities and user interactions with the songs."
   ]
  },
  {
   "attachments": {},
   "cell_type": "markdown",
   "metadata": {},
   "source": [
    "# Hypothesis\n"
   ]
  },
  {
   "attachments": {},
   "cell_type": "markdown",
   "metadata": {},
   "source": [
    "Certain audio features will be statistically different between the distribution of certain genres. \n",
    "\n",
    "For example, the mean \"tempo\" of Pop Artists will be higher than that of Ballad Singers since Pop songs tend to be more upbeat and fast. \n",
    "\n",
    "**Here is where we lost points, so we have made our hypothesis more thorugh and specific about the features and their relationships**\n",
    "\n",
    "If numerical data is extracted from the songs then models can be trained to cluster / classify songs into different groups since there will be enough difference between certain features between certain groups. These differences in distributions will allow us to perform Unsupervised Learning on the data to cluster the songs into different listening personas, which is different from the 'taboo' approach of just predicting song features (which is not as useful as identifying listening personas). This approach of comparing audio features between two groups can then be applied to other projects such as comparisons of living beings/objects to classify the two."
   ]
  },
  {
   "attachments": {},
   "cell_type": "markdown",
   "metadata": {},
   "source": [
    "# Data"
   ]
  },
  {
   "attachments": {},
   "cell_type": "markdown",
   "metadata": {},
   "source": [
    "1. Variables we would ideally have are \n",
    "- song_name : name of the song\n",
    "- artist_name : artist(s) that appear on the song\n",
    "- audio_features : a bunch of numerical audio feature unique to each song that spotify describes more in depth on their API documentation\n",
    "- date : date song was charted\n",
    "- url : spotify url to the song\n",
    "- uri : spotify uri to the song\n",
    "- genre : creating a genre based label based on audio features\n",
    "\n",
    "2. We have found a dataset, many actually because they are publicly available on the Spotify Top 200 Page. These are updated weekly as well, so if we want to scale the project, we can build a pipeline to scrape and process the data as Spotify formats the data the same everytime."
   ]
  },
  {
   "attachments": {},
   "cell_type": "markdown",
   "metadata": {},
   "source": [
    "# Ethics & Privacy"
   ]
  },
  {
   "attachments": {},
   "cell_type": "markdown",
   "metadata": {},
   "source": [
    "There are many ethical concerns in the industry of music streaming, such as the income of musicians (especially independent artists).\n",
    "\n",
    "Spotify's Code of Conduct is posted publicly [^3], where they claim that they comply with laws and are fully fair and in line with their interests. Additionally, they provide many links for contact if any individual suspects fraud or theft of Spotify assets. Spotify has a separate Privacy Policy, where they go into detail of the personal rights of users [^4]. \n",
    "\n",
    "There is potential for bias in the Spotify weekly charts, as popular artists are more likely to have a significant following, leading to an overrepresentation in the charts. Therefore, independent and/or lesser known artists do not have the same opportunities. Promotion from record labels who can afford to advertise their artists/songs would have the upper hand in this field. Additionally, we do not know the specifics of the algorithms used to generate Spotify's charts, which would potentially harbor bias in its model. \n",
    "\n",
    "Much of these are out of control, and since Spotify has made the Data Publicly available about the artists, and we are not directly working with individual user data, we assume that all practices are legel.\n",
    "\n",
    "[^3]: https://s29.q4cdn.com/175625835/files/doc_downloads/gov-docs/Spotify-Code-of-Conduct-and-Ethics-(Updated-2020).pdf \n",
    "\n",
    "[^4]: https://www.spotify.com/us/legal/privacy-policy/"
   ]
  },
  {
   "attachments": {},
   "cell_type": "markdown",
   "metadata": {},
   "source": [
    "# Team Expectations "
   ]
  },
  {
   "attachments": {},
   "cell_type": "markdown",
   "metadata": {},
   "source": [
    "\n",
    "\n",
    "* Everyone should contribute something, and no one or few people should contribute too much to allow others to add their own contributions.\n",
    "\n",
    "* When one person writes code or makes a change to a part of the project, it should be reviewed by at least one other group member (preferably most or all)\n",
    "\n",
    "* Code Review SHOULD be done through pull requests \n",
    "\n",
    "* Every member will create a branch and make their changes there for version control\n",
    "\n",
    "* We will communicate through text and on call (when free)"
   ]
  },
  {
   "attachments": {},
   "cell_type": "markdown",
   "metadata": {},
   "source": [
    "# Project Timeline Proposal"
   ]
  },
  {
   "attachments": {},
   "cell_type": "markdown",
   "metadata": {},
   "source": [
    "| Meeting Date  | Meeting Time| Completed Before Meeting  | Discuss at Meeting |\n",
    "|---|---|---|---|\n",
    "| 5/10  |  6 PM | Read & Think about COGS 108 expectations; begin discussing and implementing Data Wrangling  | Go over shortcomings and successes, check that the data is in the correct format we want | \n",
    "| 5/17  |  6 PM |  Finalize data cleaning, wrangling, storage | Begin brainstorming EDA methods | \n",
    "| 5/24  | 6 PM  | Iterate  | Discuss  possible analytical approaches; Assign group members to lead each specific part   |\n",
    "| 5/31  | 6 PM  | Finish EDA and begin model selection | Assign Tickets  |\n",
    "| 6/7   | 6 PM  | Code Review and begin implementing and testing | AGILE and go over findings |\n",
    "| 6/14  | 12 PM  | Complete analysis; Draft results/conclusion/discussion (Wasp)| Discuss/edit full project |\n"
   ]
  }
 ],
 "metadata": {
  "kernelspec": {
   "display_name": "Python 3",
   "language": "python",
   "name": "python3"
  },
  "language_info": {
   "codemirror_mode": {
    "name": "ipython",
    "version": 3
   },
   "file_extension": ".py",
   "mimetype": "text/x-python",
   "name": "python",
   "nbconvert_exporter": "python",
   "pygments_lexer": "ipython3",
   "version": "3.9.4 (default, Apr 24 2021, 22:26:35) \n[Clang 12.0.0 (clang-1200.0.32.29)]"
  },
  "vscode": {
   "interpreter": {
    "hash": "d0c5cb6bf509a02cef9c56bf2eb97e86fe98bb4322bfa6beb984e4c134a4af93"
   }
  }
 },
 "nbformat": 4,
 "nbformat_minor": 2
}
