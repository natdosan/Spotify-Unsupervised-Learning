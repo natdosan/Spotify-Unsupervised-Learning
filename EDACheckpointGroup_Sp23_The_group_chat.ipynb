{
 "cells": [
  {
   "attachments": {},
   "cell_type": "markdown",
   "metadata": {},
   "source": [
    "# COGS 108 - EDA Checkpoint"
   ]
  },
  {
   "attachments": {},
   "cell_type": "markdown",
   "metadata": {},
   "source": [
    "# Names\n",
    "\n",
    "- Mateo Ignacio\n",
    "- Samuel Piltch\n",
    "- Nate del Rosario 🐐\n",
    "- Lisa Hwang\n",
    "- Geovaunii D. White"
   ]
  },
  {
   "attachments": {},
   "cell_type": "markdown",
   "metadata": {},
   "source": [
    "<a id='research_question'></a>\n",
    "# Research Question"
   ]
  },
  {
   "attachments": {},
   "cell_type": "markdown",
   "metadata": {},
   "source": [
    "How do the audio features from songs, specifically Spotify Tracks compare to each other? Is there a relationship between some of these features such as tempo correlating with danceability/energy/liveness and if so how are they correlated. Additionally, how can we use these features to cluster songs based on these audio tracks of songs being coverted to numeric features?"
   ]
  },
  {
   "attachments": {},
   "cell_type": "markdown",
   "metadata": {},
   "source": [
    "# Setup"
   ]
  },
  {
   "cell_type": "code",
   "execution_count": 6,
   "metadata": {},
   "outputs": [],
   "source": [
    "import pandas as pd\n",
    "import numpy as np\n",
    "import matplotlib.pyplot as plt\n",
    "import plotly.express as px\n",
    "import plotly.figure_factory as ff\n",
    "from sklearn.preprocessing import StandardScaler, MinMaxScaler\n",
    "from sklearn.cluster import KMeans\n",
    "from sklearn.metrics import silhouette_score\n",
    "from sklearn.feature_selection import SelectKBest, chi2"
   ]
  },
  {
   "attachments": {},
   "cell_type": "markdown",
   "metadata": {},
   "source": [
    "# Data Cleaning"
   ]
  },
  {
   "attachments": {},
   "cell_type": "markdown",
   "metadata": {},
   "source": [
    "Describe your data cleaning steps here."
   ]
  },
  {
   "cell_type": "code",
   "execution_count": 2,
   "metadata": {},
   "outputs": [
    {
     "data": {
      "text/html": [
       "<div>\n",
       "<style scoped>\n",
       "    .dataframe tbody tr th:only-of-type {\n",
       "        vertical-align: middle;\n",
       "    }\n",
       "\n",
       "    .dataframe tbody tr th {\n",
       "        vertical-align: top;\n",
       "    }\n",
       "\n",
       "    .dataframe thead th {\n",
       "        text-align: right;\n",
       "    }\n",
       "</style>\n",
       "<table border=\"1\" class=\"dataframe\">\n",
       "  <thead>\n",
       "    <tr style=\"text-align: right;\">\n",
       "      <th></th>\n",
       "      <th>track_name</th>\n",
       "      <th>artist_names</th>\n",
       "      <th>danceability</th>\n",
       "      <th>energy</th>\n",
       "      <th>key</th>\n",
       "      <th>mode</th>\n",
       "      <th>loudness</th>\n",
       "      <th>speechiness</th>\n",
       "      <th>acousticness</th>\n",
       "      <th>instrumentalness</th>\n",
       "      <th>liveness</th>\n",
       "      <th>valence</th>\n",
       "      <th>tempo</th>\n",
       "      <th>duration</th>\n",
       "    </tr>\n",
       "  </thead>\n",
       "  <tbody>\n",
       "    <tr>\n",
       "      <th>0</th>\n",
       "      <td>'Til You Can't</td>\n",
       "      <td>Cody Johnson</td>\n",
       "      <td>0.501</td>\n",
       "      <td>0.815</td>\n",
       "      <td>1.0</td>\n",
       "      <td>1.0</td>\n",
       "      <td>-4.865</td>\n",
       "      <td>0.0436</td>\n",
       "      <td>0.05130</td>\n",
       "      <td>0.000000</td>\n",
       "      <td>0.1060</td>\n",
       "      <td>0.4600</td>\n",
       "      <td>160.087</td>\n",
       "      <td>224213.0</td>\n",
       "    </tr>\n",
       "    <tr>\n",
       "      <th>1</th>\n",
       "      <td>'Till I Collapse</td>\n",
       "      <td>Eminem, Nate Dogg</td>\n",
       "      <td>0.548</td>\n",
       "      <td>0.847</td>\n",
       "      <td>1.0</td>\n",
       "      <td>1.0</td>\n",
       "      <td>-3.237</td>\n",
       "      <td>0.1860</td>\n",
       "      <td>0.06220</td>\n",
       "      <td>0.000000</td>\n",
       "      <td>0.0816</td>\n",
       "      <td>0.1000</td>\n",
       "      <td>171.447</td>\n",
       "      <td>297787.0</td>\n",
       "    </tr>\n",
       "    <tr>\n",
       "      <th>2</th>\n",
       "      <td>(Don't Fear) The Reaper</td>\n",
       "      <td>Blue Öyster Cult</td>\n",
       "      <td>0.333</td>\n",
       "      <td>0.927</td>\n",
       "      <td>9.0</td>\n",
       "      <td>0.0</td>\n",
       "      <td>-8.550</td>\n",
       "      <td>0.0733</td>\n",
       "      <td>0.00290</td>\n",
       "      <td>0.000208</td>\n",
       "      <td>0.2970</td>\n",
       "      <td>0.3850</td>\n",
       "      <td>141.466</td>\n",
       "      <td>308120.0</td>\n",
       "    </tr>\n",
       "    <tr>\n",
       "      <th>3</th>\n",
       "      <td>(Everybody's Waitin' For) The Man With The Bag...</td>\n",
       "      <td>Kay Starr</td>\n",
       "      <td>0.739</td>\n",
       "      <td>0.317</td>\n",
       "      <td>0.0</td>\n",
       "      <td>1.0</td>\n",
       "      <td>-8.668</td>\n",
       "      <td>0.0905</td>\n",
       "      <td>0.39100</td>\n",
       "      <td>0.004870</td>\n",
       "      <td>0.2430</td>\n",
       "      <td>0.8060</td>\n",
       "      <td>71.165</td>\n",
       "      <td>162373.0</td>\n",
       "    </tr>\n",
       "    <tr>\n",
       "      <th>4</th>\n",
       "      <td>(There's No Place Like) Home for the Holidays ...</td>\n",
       "      <td>Perry Como</td>\n",
       "      <td>0.478</td>\n",
       "      <td>0.341</td>\n",
       "      <td>5.0</td>\n",
       "      <td>1.0</td>\n",
       "      <td>-12.556</td>\n",
       "      <td>0.0511</td>\n",
       "      <td>0.89700</td>\n",
       "      <td>0.000000</td>\n",
       "      <td>0.2580</td>\n",
       "      <td>0.4740</td>\n",
       "      <td>143.736</td>\n",
       "      <td>175893.0</td>\n",
       "    </tr>\n",
       "    <tr>\n",
       "      <th>...</th>\n",
       "      <td>...</td>\n",
       "      <td>...</td>\n",
       "      <td>...</td>\n",
       "      <td>...</td>\n",
       "      <td>...</td>\n",
       "      <td>...</td>\n",
       "      <td>...</td>\n",
       "      <td>...</td>\n",
       "      <td>...</td>\n",
       "      <td>...</td>\n",
       "      <td>...</td>\n",
       "      <td>...</td>\n",
       "      <td>...</td>\n",
       "      <td>...</td>\n",
       "    </tr>\n",
       "    <tr>\n",
       "      <th>2549</th>\n",
       "      <td>you broke me first</td>\n",
       "      <td>Tate McRae</td>\n",
       "      <td>0.667</td>\n",
       "      <td>0.373</td>\n",
       "      <td>4.0</td>\n",
       "      <td>1.0</td>\n",
       "      <td>-9.389</td>\n",
       "      <td>0.0500</td>\n",
       "      <td>0.78500</td>\n",
       "      <td>0.000000</td>\n",
       "      <td>0.0906</td>\n",
       "      <td>0.0823</td>\n",
       "      <td>124.148</td>\n",
       "      <td>169266.0</td>\n",
       "    </tr>\n",
       "    <tr>\n",
       "      <th>2550</th>\n",
       "      <td>¿Por Qué Me Haces Llorar?</td>\n",
       "      <td>Juan Gabriel</td>\n",
       "      <td>0.647</td>\n",
       "      <td>0.477</td>\n",
       "      <td>0.0</td>\n",
       "      <td>1.0</td>\n",
       "      <td>-8.157</td>\n",
       "      <td>0.0342</td>\n",
       "      <td>0.03740</td>\n",
       "      <td>0.000010</td>\n",
       "      <td>0.1270</td>\n",
       "      <td>0.7930</td>\n",
       "      <td>112.041</td>\n",
       "      <td>182880.0</td>\n",
       "    </tr>\n",
       "    <tr>\n",
       "      <th>2551</th>\n",
       "      <td>¿Quién Te Crees?</td>\n",
       "      <td>MC Davo, Calibre 50</td>\n",
       "      <td>0.747</td>\n",
       "      <td>0.780</td>\n",
       "      <td>9.0</td>\n",
       "      <td>0.0</td>\n",
       "      <td>-5.302</td>\n",
       "      <td>0.2160</td>\n",
       "      <td>0.05830</td>\n",
       "      <td>0.000000</td>\n",
       "      <td>0.1640</td>\n",
       "      <td>0.5380</td>\n",
       "      <td>82.524</td>\n",
       "      <td>185493.0</td>\n",
       "    </tr>\n",
       "    <tr>\n",
       "      <th>2552</th>\n",
       "      <td>Éxtasis</td>\n",
       "      <td>Millonario &amp; W. Corona, Cartel De Santa</td>\n",
       "      <td>0.937</td>\n",
       "      <td>0.791</td>\n",
       "      <td>0.0</td>\n",
       "      <td>1.0</td>\n",
       "      <td>-5.242</td>\n",
       "      <td>0.0871</td>\n",
       "      <td>0.02050</td>\n",
       "      <td>0.000232</td>\n",
       "      <td>0.0433</td>\n",
       "      <td>0.9740</td>\n",
       "      <td>119.967</td>\n",
       "      <td>289013.0</td>\n",
       "    </tr>\n",
       "    <tr>\n",
       "      <th>2553</th>\n",
       "      <td>Índigo</td>\n",
       "      <td>Camilo, Evaluna Montaner</td>\n",
       "      <td>0.748</td>\n",
       "      <td>0.779</td>\n",
       "      <td>0.0</td>\n",
       "      <td>1.0</td>\n",
       "      <td>-6.659</td>\n",
       "      <td>0.0342</td>\n",
       "      <td>0.00884</td>\n",
       "      <td>0.000040</td>\n",
       "      <td>0.1130</td>\n",
       "      <td>0.9280</td>\n",
       "      <td>128.910</td>\n",
       "      <td>214933.0</td>\n",
       "    </tr>\n",
       "  </tbody>\n",
       "</table>\n",
       "<p>2554 rows × 14 columns</p>\n",
       "</div>"
      ],
      "text/plain": [
       "                                             track_name  \\\n",
       "0                                        'Til You Can't   \n",
       "1                                      'Till I Collapse   \n",
       "2                               (Don't Fear) The Reaper   \n",
       "3     (Everybody's Waitin' For) The Man With The Bag...   \n",
       "4     (There's No Place Like) Home for the Holidays ...   \n",
       "...                                                 ...   \n",
       "2549                                 you broke me first   \n",
       "2550                          ¿Por Qué Me Haces Llorar?   \n",
       "2551                                   ¿Quién Te Crees?   \n",
       "2552                                            Éxtasis   \n",
       "2553                                             Índigo   \n",
       "\n",
       "                                 artist_names  danceability  energy  key  \\\n",
       "0                                Cody Johnson         0.501   0.815  1.0   \n",
       "1                           Eminem, Nate Dogg         0.548   0.847  1.0   \n",
       "2                            Blue Öyster Cult         0.333   0.927  9.0   \n",
       "3                                   Kay Starr         0.739   0.317  0.0   \n",
       "4                                  Perry Como         0.478   0.341  5.0   \n",
       "...                                       ...           ...     ...  ...   \n",
       "2549                               Tate McRae         0.667   0.373  4.0   \n",
       "2550                             Juan Gabriel         0.647   0.477  0.0   \n",
       "2551                      MC Davo, Calibre 50         0.747   0.780  9.0   \n",
       "2552  Millonario & W. Corona, Cartel De Santa         0.937   0.791  0.0   \n",
       "2553                 Camilo, Evaluna Montaner         0.748   0.779  0.0   \n",
       "\n",
       "      mode  loudness  speechiness  acousticness  instrumentalness  liveness  \\\n",
       "0      1.0    -4.865       0.0436       0.05130          0.000000    0.1060   \n",
       "1      1.0    -3.237       0.1860       0.06220          0.000000    0.0816   \n",
       "2      0.0    -8.550       0.0733       0.00290          0.000208    0.2970   \n",
       "3      1.0    -8.668       0.0905       0.39100          0.004870    0.2430   \n",
       "4      1.0   -12.556       0.0511       0.89700          0.000000    0.2580   \n",
       "...    ...       ...          ...           ...               ...       ...   \n",
       "2549   1.0    -9.389       0.0500       0.78500          0.000000    0.0906   \n",
       "2550   1.0    -8.157       0.0342       0.03740          0.000010    0.1270   \n",
       "2551   0.0    -5.302       0.2160       0.05830          0.000000    0.1640   \n",
       "2552   1.0    -5.242       0.0871       0.02050          0.000232    0.0433   \n",
       "2553   1.0    -6.659       0.0342       0.00884          0.000040    0.1130   \n",
       "\n",
       "      valence    tempo  duration  \n",
       "0      0.4600  160.087  224213.0  \n",
       "1      0.1000  171.447  297787.0  \n",
       "2      0.3850  141.466  308120.0  \n",
       "3      0.8060   71.165  162373.0  \n",
       "4      0.4740  143.736  175893.0  \n",
       "...       ...      ...       ...  \n",
       "2549   0.0823  124.148  169266.0  \n",
       "2550   0.7930  112.041  182880.0  \n",
       "2551   0.5380   82.524  185493.0  \n",
       "2552   0.9740  119.967  289013.0  \n",
       "2553   0.9280  128.910  214933.0  \n",
       "\n",
       "[2554 rows x 14 columns]"
      ]
     },
     "execution_count": 2,
     "metadata": {},
     "output_type": "execute_result"
    }
   ],
   "source": [
    "charts = pd.read_csv('data/songs.csv')\n",
    "charts"
   ]
  },
  {
   "cell_type": "code",
   "execution_count": 3,
   "metadata": {},
   "outputs": [],
   "source": [
    "def return_tempo(tempo):\n",
    "    \"\"\"\n",
    "    Returns a number corresponding to a categorical class for each tempo\n",
    "    These tempos align with the standard names used in music composition\n",
    "    \"\"\"\n",
    "    if tempo < 60:\n",
    "        return 0\n",
    "    elif tempo < 90:\n",
    "        return 1 / 6\n",
    "    elif tempo < 110:\n",
    "        return 2 / 6\n",
    "    elif tempo < 120:\n",
    "        return 3 / 6\n",
    "    elif tempo < 160:\n",
    "        return 4 / 6\n",
    "    elif tempo < 180:\n",
    "        return 5 / 6\n",
    "    else:\n",
    "        return 6 / 6\n",
    "        \n",
    "charts = charts.assign(tempo_name = charts['tempo'].apply(return_tempo))\n"
   ]
  },
  {
   "cell_type": "code",
   "execution_count": 4,
   "metadata": {},
   "outputs": [
    {
     "data": {
      "text/plain": [
       "array(['danceability', 'energy', 'key', 'mode', 'loudness', 'speechiness',\n",
       "       'acousticness', 'instrumentalness', 'liveness', 'valence', 'tempo',\n",
       "       'duration', 'tempo_name'], dtype=object)"
      ]
     },
     "execution_count": 4,
     "metadata": {},
     "output_type": "execute_result"
    }
   ],
   "source": [
    "# define our features\n",
    "features_array = np.array(charts.columns)\n",
    "features = np.delete(features_array, [0, 1])\n",
    "features"
   ]
  },
  {
   "cell_type": "code",
   "execution_count": 5,
   "metadata": {},
   "outputs": [
    {
     "data": {
      "text/html": [
       "<div>\n",
       "<style scoped>\n",
       "    .dataframe tbody tr th:only-of-type {\n",
       "        vertical-align: middle;\n",
       "    }\n",
       "\n",
       "    .dataframe tbody tr th {\n",
       "        vertical-align: top;\n",
       "    }\n",
       "\n",
       "    .dataframe thead th {\n",
       "        text-align: right;\n",
       "    }\n",
       "</style>\n",
       "<table border=\"1\" class=\"dataframe\">\n",
       "  <thead>\n",
       "    <tr style=\"text-align: right;\">\n",
       "      <th></th>\n",
       "      <th>track_name</th>\n",
       "      <th>artist_names</th>\n",
       "      <th>danceability</th>\n",
       "      <th>energy</th>\n",
       "      <th>key</th>\n",
       "      <th>mode</th>\n",
       "      <th>loudness</th>\n",
       "      <th>speechiness</th>\n",
       "      <th>acousticness</th>\n",
       "      <th>instrumentalness</th>\n",
       "      <th>liveness</th>\n",
       "      <th>valence</th>\n",
       "      <th>tempo</th>\n",
       "      <th>tempo_name</th>\n",
       "      <th>duration_min</th>\n",
       "    </tr>\n",
       "  </thead>\n",
       "  <tbody>\n",
       "    <tr>\n",
       "      <th>0</th>\n",
       "      <td>'Til You Can't</td>\n",
       "      <td>Cody Johnson</td>\n",
       "      <td>0.501</td>\n",
       "      <td>0.815</td>\n",
       "      <td>0.090909</td>\n",
       "      <td>1.0</td>\n",
       "      <td>0.858052</td>\n",
       "      <td>0.0436</td>\n",
       "      <td>0.05130</td>\n",
       "      <td>0.000000</td>\n",
       "      <td>0.1060</td>\n",
       "      <td>0.4600</td>\n",
       "      <td>0.710372</td>\n",
       "      <td>0.833333</td>\n",
       "      <td>0.286447</td>\n",
       "    </tr>\n",
       "    <tr>\n",
       "      <th>1</th>\n",
       "      <td>'Till I Collapse</td>\n",
       "      <td>Eminem, Nate Dogg</td>\n",
       "      <td>0.548</td>\n",
       "      <td>0.847</td>\n",
       "      <td>0.090909</td>\n",
       "      <td>1.0</td>\n",
       "      <td>0.911176</td>\n",
       "      <td>0.1860</td>\n",
       "      <td>0.06220</td>\n",
       "      <td>0.000000</td>\n",
       "      <td>0.0816</td>\n",
       "      <td>0.1000</td>\n",
       "      <td>0.777751</td>\n",
       "      <td>0.833333</td>\n",
       "      <td>0.398980</td>\n",
       "    </tr>\n",
       "    <tr>\n",
       "      <th>2</th>\n",
       "      <td>(Don't Fear) The Reaper</td>\n",
       "      <td>Blue Öyster Cult</td>\n",
       "      <td>0.333</td>\n",
       "      <td>0.927</td>\n",
       "      <td>0.818182</td>\n",
       "      <td>0.0</td>\n",
       "      <td>0.737804</td>\n",
       "      <td>0.0733</td>\n",
       "      <td>0.00290</td>\n",
       "      <td>0.000208</td>\n",
       "      <td>0.2970</td>\n",
       "      <td>0.3850</td>\n",
       "      <td>0.599926</td>\n",
       "      <td>0.666667</td>\n",
       "      <td>0.414785</td>\n",
       "    </tr>\n",
       "    <tr>\n",
       "      <th>3</th>\n",
       "      <td>(Everybody's Waitin' For) The Man With The Bag...</td>\n",
       "      <td>Kay Starr</td>\n",
       "      <td>0.739</td>\n",
       "      <td>0.317</td>\n",
       "      <td>0.000000</td>\n",
       "      <td>1.0</td>\n",
       "      <td>0.733953</td>\n",
       "      <td>0.0905</td>\n",
       "      <td>0.39100</td>\n",
       "      <td>0.004870</td>\n",
       "      <td>0.2430</td>\n",
       "      <td>0.8060</td>\n",
       "      <td>0.182955</td>\n",
       "      <td>0.166667</td>\n",
       "      <td>0.191861</td>\n",
       "    </tr>\n",
       "    <tr>\n",
       "      <th>4</th>\n",
       "      <td>(There's No Place Like) Home for the Holidays ...</td>\n",
       "      <td>Perry Como</td>\n",
       "      <td>0.478</td>\n",
       "      <td>0.341</td>\n",
       "      <td>0.454545</td>\n",
       "      <td>1.0</td>\n",
       "      <td>0.607081</td>\n",
       "      <td>0.0511</td>\n",
       "      <td>0.89700</td>\n",
       "      <td>0.000000</td>\n",
       "      <td>0.2580</td>\n",
       "      <td>0.4740</td>\n",
       "      <td>0.613390</td>\n",
       "      <td>0.666667</td>\n",
       "      <td>0.212540</td>\n",
       "    </tr>\n",
       "    <tr>\n",
       "      <th>...</th>\n",
       "      <td>...</td>\n",
       "      <td>...</td>\n",
       "      <td>...</td>\n",
       "      <td>...</td>\n",
       "      <td>...</td>\n",
       "      <td>...</td>\n",
       "      <td>...</td>\n",
       "      <td>...</td>\n",
       "      <td>...</td>\n",
       "      <td>...</td>\n",
       "      <td>...</td>\n",
       "      <td>...</td>\n",
       "      <td>...</td>\n",
       "      <td>...</td>\n",
       "      <td>...</td>\n",
       "    </tr>\n",
       "    <tr>\n",
       "      <th>2549</th>\n",
       "      <td>you broke me first</td>\n",
       "      <td>Tate McRae</td>\n",
       "      <td>0.667</td>\n",
       "      <td>0.373</td>\n",
       "      <td>0.363636</td>\n",
       "      <td>1.0</td>\n",
       "      <td>0.710426</td>\n",
       "      <td>0.0500</td>\n",
       "      <td>0.78500</td>\n",
       "      <td>0.000000</td>\n",
       "      <td>0.0906</td>\n",
       "      <td>0.0823</td>\n",
       "      <td>0.497209</td>\n",
       "      <td>0.666667</td>\n",
       "      <td>0.202404</td>\n",
       "    </tr>\n",
       "    <tr>\n",
       "      <th>2550</th>\n",
       "      <td>¿Por Qué Me Haces Llorar?</td>\n",
       "      <td>Juan Gabriel</td>\n",
       "      <td>0.647</td>\n",
       "      <td>0.477</td>\n",
       "      <td>0.000000</td>\n",
       "      <td>1.0</td>\n",
       "      <td>0.750628</td>\n",
       "      <td>0.0342</td>\n",
       "      <td>0.03740</td>\n",
       "      <td>0.000010</td>\n",
       "      <td>0.1270</td>\n",
       "      <td>0.7930</td>\n",
       "      <td>0.425400</td>\n",
       "      <td>0.500000</td>\n",
       "      <td>0.223227</td>\n",
       "    </tr>\n",
       "    <tr>\n",
       "      <th>2551</th>\n",
       "      <td>¿Quién Te Crees?</td>\n",
       "      <td>MC Davo, Calibre 50</td>\n",
       "      <td>0.747</td>\n",
       "      <td>0.780</td>\n",
       "      <td>0.818182</td>\n",
       "      <td>0.0</td>\n",
       "      <td>0.843792</td>\n",
       "      <td>0.2160</td>\n",
       "      <td>0.05830</td>\n",
       "      <td>0.000000</td>\n",
       "      <td>0.1640</td>\n",
       "      <td>0.5380</td>\n",
       "      <td>0.250328</td>\n",
       "      <td>0.166667</td>\n",
       "      <td>0.227223</td>\n",
       "    </tr>\n",
       "    <tr>\n",
       "      <th>2552</th>\n",
       "      <td>Éxtasis</td>\n",
       "      <td>Millonario &amp; W. Corona, Cartel De Santa</td>\n",
       "      <td>0.937</td>\n",
       "      <td>0.791</td>\n",
       "      <td>0.000000</td>\n",
       "      <td>1.0</td>\n",
       "      <td>0.845750</td>\n",
       "      <td>0.0871</td>\n",
       "      <td>0.02050</td>\n",
       "      <td>0.000232</td>\n",
       "      <td>0.0433</td>\n",
       "      <td>0.9740</td>\n",
       "      <td>0.472411</td>\n",
       "      <td>0.500000</td>\n",
       "      <td>0.385560</td>\n",
       "    </tr>\n",
       "    <tr>\n",
       "      <th>2553</th>\n",
       "      <td>Índigo</td>\n",
       "      <td>Camilo, Evaluna Montaner</td>\n",
       "      <td>0.748</td>\n",
       "      <td>0.779</td>\n",
       "      <td>0.000000</td>\n",
       "      <td>1.0</td>\n",
       "      <td>0.799511</td>\n",
       "      <td>0.0342</td>\n",
       "      <td>0.00884</td>\n",
       "      <td>0.000040</td>\n",
       "      <td>0.1130</td>\n",
       "      <td>0.9280</td>\n",
       "      <td>0.525454</td>\n",
       "      <td>0.666667</td>\n",
       "      <td>0.272253</td>\n",
       "    </tr>\n",
       "  </tbody>\n",
       "</table>\n",
       "<p>2554 rows × 15 columns</p>\n",
       "</div>"
      ],
      "text/plain": [
       "                                             track_name  \\\n",
       "0                                        'Til You Can't   \n",
       "1                                      'Till I Collapse   \n",
       "2                               (Don't Fear) The Reaper   \n",
       "3     (Everybody's Waitin' For) The Man With The Bag...   \n",
       "4     (There's No Place Like) Home for the Holidays ...   \n",
       "...                                                 ...   \n",
       "2549                                 you broke me first   \n",
       "2550                          ¿Por Qué Me Haces Llorar?   \n",
       "2551                                   ¿Quién Te Crees?   \n",
       "2552                                            Éxtasis   \n",
       "2553                                             Índigo   \n",
       "\n",
       "                                 artist_names  danceability  energy       key  \\\n",
       "0                                Cody Johnson         0.501   0.815  0.090909   \n",
       "1                           Eminem, Nate Dogg         0.548   0.847  0.090909   \n",
       "2                            Blue Öyster Cult         0.333   0.927  0.818182   \n",
       "3                                   Kay Starr         0.739   0.317  0.000000   \n",
       "4                                  Perry Como         0.478   0.341  0.454545   \n",
       "...                                       ...           ...     ...       ...   \n",
       "2549                               Tate McRae         0.667   0.373  0.363636   \n",
       "2550                             Juan Gabriel         0.647   0.477  0.000000   \n",
       "2551                      MC Davo, Calibre 50         0.747   0.780  0.818182   \n",
       "2552  Millonario & W. Corona, Cartel De Santa         0.937   0.791  0.000000   \n",
       "2553                 Camilo, Evaluna Montaner         0.748   0.779  0.000000   \n",
       "\n",
       "      mode  loudness  speechiness  acousticness  instrumentalness  liveness  \\\n",
       "0      1.0  0.858052       0.0436       0.05130          0.000000    0.1060   \n",
       "1      1.0  0.911176       0.1860       0.06220          0.000000    0.0816   \n",
       "2      0.0  0.737804       0.0733       0.00290          0.000208    0.2970   \n",
       "3      1.0  0.733953       0.0905       0.39100          0.004870    0.2430   \n",
       "4      1.0  0.607081       0.0511       0.89700          0.000000    0.2580   \n",
       "...    ...       ...          ...           ...               ...       ...   \n",
       "2549   1.0  0.710426       0.0500       0.78500          0.000000    0.0906   \n",
       "2550   1.0  0.750628       0.0342       0.03740          0.000010    0.1270   \n",
       "2551   0.0  0.843792       0.2160       0.05830          0.000000    0.1640   \n",
       "2552   1.0  0.845750       0.0871       0.02050          0.000232    0.0433   \n",
       "2553   1.0  0.799511       0.0342       0.00884          0.000040    0.1130   \n",
       "\n",
       "      valence     tempo  tempo_name  duration_min  \n",
       "0      0.4600  0.710372    0.833333      0.286447  \n",
       "1      0.1000  0.777751    0.833333      0.398980  \n",
       "2      0.3850  0.599926    0.666667      0.414785  \n",
       "3      0.8060  0.182955    0.166667      0.191861  \n",
       "4      0.4740  0.613390    0.666667      0.212540  \n",
       "...       ...       ...         ...           ...  \n",
       "2549   0.0823  0.497209    0.666667      0.202404  \n",
       "2550   0.7930  0.425400    0.500000      0.223227  \n",
       "2551   0.5380  0.250328    0.166667      0.227223  \n",
       "2552   0.9740  0.472411    0.500000      0.385560  \n",
       "2553   0.9280  0.525454    0.666667      0.272253  \n",
       "\n",
       "[2554 rows x 15 columns]"
      ]
     },
     "execution_count": 5,
     "metadata": {},
     "output_type": "execute_result"
    }
   ],
   "source": [
    "# convert milliseconds to minutes\n",
    "charts = charts.assign(duration_min = charts['duration'] / 60000).drop(columns=['duration'])\n",
    "\n",
    "# feature scaling\n",
    "scaler = MinMaxScaler()\n",
    "scaler.fit(np.array(charts[['tempo', 'loudness', 'duration_min', 'key', 'mode']]))\n",
    "charts[['tempo', 'loudness', 'duration_min', 'key', 'mode']] = scaler.transform(np.array(charts[['tempo', 'loudness', 'duration_min', 'key', 'mode']]))\n",
    "\n",
    "# Scaled!\n",
    "charts"
   ]
  },
  {
   "cell_type": "code",
   "execution_count": null,
   "metadata": {},
   "outputs": [],
   "source": [
    "for col in charts.columns:\n",
    "    num_NaN = charts[col].isna().sum()\n",
    "    print(\"Are there any NaN's?\")\n",
    "    if num_NaN == 0:\n",
    "        print('No')"
   ]
  },
  {
   "attachments": {},
   "cell_type": "markdown",
   "metadata": {},
   "source": [
    "# Data Analysis & Results (EDA)"
   ]
  },
  {
   "attachments": {},
   "cell_type": "markdown",
   "metadata": {},
   "source": [
    "Carry out EDA on your dataset(s); Describe in this section"
   ]
  },
  {
   "cell_type": "code",
   "execution_count": null,
   "metadata": {},
   "outputs": [],
   "source": [
    "## YOUR CODE HERE\n",
    "## FEEL FREE TO ADD MULTIPLE CELLS PER SECTION"
   ]
  },
  {
   "cell_type": "code",
   "execution_count": 21,
   "metadata": {},
   "outputs": [
    {
     "data": {
      "application/vnd.plotly.v1+json": {
       "config": {
        "plotlyServerURL": "https://plot.ly"
       },
       "data": [
        {
         "colorscale": [
          [
           0,
           "rgb(243, 224, 247)"
          ],
          [
           0.16666666666666666,
           "rgb(228, 199, 241)"
          ],
          [
           0.3333333333333333,
           "rgb(209, 175, 232)"
          ],
          [
           0.5,
           "rgb(185, 152, 221)"
          ],
          [
           0.6666666666666666,
           "rgb(159, 130, 206)"
          ],
          [
           0.8333333333333334,
           "rgb(130, 109, 186)"
          ],
          [
           1,
           "rgb(99, 88, 159)"
          ]
         ],
         "reversescale": false,
         "showscale": true,
         "type": "heatmap",
         "x": [
          "danceability",
          "energy",
          "key",
          "mode",
          "loudness",
          "speechiness",
          "acousticness",
          "instrumentalness",
          "liveness",
          "valence",
          "tempo",
          "tempo_name",
          "duration_min"
         ],
         "y": [
          "danceability",
          "energy",
          "key",
          "mode",
          "loudness",
          "speechiness",
          "acousticness",
          "instrumentalness",
          "liveness",
          "valence",
          "tempo",
          "tempo_name",
          "duration_min"
         ],
         "z": [
          [
           1,
           0.1803550529565032,
           0.05659228979243318,
           -0.1386154743494936,
           0.23946511958988262,
           0.22564542727103454,
           -0.2664126449470592,
           -0.09614352608843305,
           -0.08239021631416592,
           0.3364848324237642,
           -0.09671465948137792,
           -0.054333593544200434,
           -0.1619580635500302
          ],
          [
           0.1803550529565032,
           1,
           0.07122121590219006,
           -0.052907016550882105,
           0.6959021352878022,
           0.05241329454737231,
           -0.5779734956648875,
           -0.057398392210235315,
           0.13043398465510397,
           0.3383323447815178,
           0.07691542084828004,
           0.07171851845468341,
           0.03927617475132872
          ],
          [
           0.05659228979243318,
           0.07122121590219006,
           1,
           -0.14153614140308396,
           0.054757882755701946,
           0.03826645324373961,
           -0.031699423815138926,
           0.01816999800895154,
           0.004021571404892011,
           0.07483225271718084,
           -0.013468137323809219,
           -0.00866002863745533,
           -0.02069774062453142
          ],
          [
           -0.1386154743494936,
           -0.052907016550882105,
           -0.14153614140308396,
           1,
           -0.015950490187776476,
           -0.11843352634794768,
           0.06603314548655896,
           -0.0019412588478343357,
           0.036372079446078724,
           0.01581705808209464,
           0.02308397787834806,
           0.02725090392363125,
           0.026322721576614225
          ],
          [
           0.23946511958988262,
           0.6959021352878022,
           0.054757882755701946,
           -0.015950490187776476,
           1,
           -0.026899017987391666,
           -0.43751160419570034,
           -0.1874822098272693,
           0.06434264542344661,
           0.26885594825145503,
           0.05226469548575476,
           0.03834172480920836,
           0.020935292261629348
          ],
          [
           0.22564542727103454,
           0.05241329454737231,
           0.03826645324373961,
           -0.11843352634794768,
           -0.026899017987391666,
           1,
           -0.12628069989461585,
           -0.07344499120117609,
           0.03528168919273822,
           0.011183261427311771,
           0.06640042528888987,
           0.03347330709345414,
           -0.06817145782982431
          ],
          [
           -0.2664126449470592,
           -0.5779734956648875,
           -0.031699423815138926,
           0.06603314548655896,
           -0.43751160419570034,
           -0.12628069989461585,
           1,
           0.057377066450873294,
           -0.05454250220610733,
           -0.057551697874275394,
           -0.06693365655463206,
           -0.06733156045779207,
           -0.006479595343418791
          ],
          [
           -0.09614352608843305,
           -0.057398392210235315,
           0.01816999800895154,
           -0.0019412588478343357,
           -0.1874822098272693,
           -0.07344499120117609,
           0.057377066450873294,
           1,
           -0.002539338102684695,
           -0.08146743269477934,
           -0.019614300196569862,
           -0.011195216108256972,
           0.015898998119737124
          ],
          [
           -0.08239021631416592,
           0.13043398465510397,
           0.004021571404892011,
           0.036372079446078724,
           0.06434264542344661,
           0.03528168919273822,
           -0.05454250220610733,
           -0.002539338102684695,
           1,
           0.025223814290502668,
           -0.014631086599061977,
           -0.002918871852843801,
           0.006031910073885146
          ],
          [
           0.3364848324237642,
           0.3383323447815178,
           0.07483225271718084,
           0.01581705808209464,
           0.26885594825145503,
           0.011183261427311771,
           -0.057551697874275394,
           -0.08146743269477934,
           0.025223814290502668,
           1,
           0.02738685494938183,
           0.02431673820389407,
           -0.1352355395073959
          ],
          [
           -0.09671465948137792,
           0.07691542084828004,
           -0.013468137323809219,
           0.02308397787834806,
           0.05226469548575476,
           0.06640042528888987,
           -0.06693365655463206,
           -0.019614300196569862,
           -0.014631086599061977,
           0.02738685494938183,
           1,
           0.9549650654285899,
           -0.002724229053660152
          ],
          [
           -0.054333593544200434,
           0.07171851845468341,
           -0.00866002863745533,
           0.02725090392363125,
           0.03834172480920836,
           0.03347330709345414,
           -0.06733156045779207,
           -0.011195216108256972,
           -0.002918871852843801,
           0.02431673820389407,
           0.9549650654285899,
           1,
           -0.007570432447580401
          ],
          [
           -0.1619580635500302,
           0.03927617475132872,
           -0.02069774062453142,
           0.026322721576614225,
           0.020935292261629348,
           -0.06817145782982431,
           -0.006479595343418791,
           0.015898998119737124,
           0.006031910073885146,
           -0.1352355395073959,
           -0.002724229053660152,
           -0.007570432447580401,
           1
          ]
         ]
        }
       ],
       "layout": {
        "annotations": [
         {
          "font": {
           "color": "#FFFFFF"
          },
          "showarrow": false,
          "text": "1.0",
          "x": "danceability",
          "xref": "x",
          "y": "danceability",
          "yref": "y"
         },
         {
          "font": {
           "color": "#000000"
          },
          "showarrow": false,
          "text": "0.18",
          "x": "energy",
          "xref": "x",
          "y": "danceability",
          "yref": "y"
         },
         {
          "font": {
           "color": "#000000"
          },
          "showarrow": false,
          "text": "0.06",
          "x": "key",
          "xref": "x",
          "y": "danceability",
          "yref": "y"
         },
         {
          "font": {
           "color": "#000000"
          },
          "showarrow": false,
          "text": "-0.14",
          "x": "mode",
          "xref": "x",
          "y": "danceability",
          "yref": "y"
         },
         {
          "font": {
           "color": "#FFFFFF"
          },
          "showarrow": false,
          "text": "0.24",
          "x": "loudness",
          "xref": "x",
          "y": "danceability",
          "yref": "y"
         },
         {
          "font": {
           "color": "#FFFFFF"
          },
          "showarrow": false,
          "text": "0.23",
          "x": "speechiness",
          "xref": "x",
          "y": "danceability",
          "yref": "y"
         },
         {
          "font": {
           "color": "#000000"
          },
          "showarrow": false,
          "text": "-0.27",
          "x": "acousticness",
          "xref": "x",
          "y": "danceability",
          "yref": "y"
         },
         {
          "font": {
           "color": "#000000"
          },
          "showarrow": false,
          "text": "-0.1",
          "x": "instrumentalness",
          "xref": "x",
          "y": "danceability",
          "yref": "y"
         },
         {
          "font": {
           "color": "#000000"
          },
          "showarrow": false,
          "text": "-0.08",
          "x": "liveness",
          "xref": "x",
          "y": "danceability",
          "yref": "y"
         },
         {
          "font": {
           "color": "#FFFFFF"
          },
          "showarrow": false,
          "text": "0.34",
          "x": "valence",
          "xref": "x",
          "y": "danceability",
          "yref": "y"
         },
         {
          "font": {
           "color": "#000000"
          },
          "showarrow": false,
          "text": "-0.1",
          "x": "tempo",
          "xref": "x",
          "y": "danceability",
          "yref": "y"
         },
         {
          "font": {
           "color": "#000000"
          },
          "showarrow": false,
          "text": "-0.05",
          "x": "tempo_name",
          "xref": "x",
          "y": "danceability",
          "yref": "y"
         },
         {
          "font": {
           "color": "#000000"
          },
          "showarrow": false,
          "text": "-0.16",
          "x": "duration_min",
          "xref": "x",
          "y": "danceability",
          "yref": "y"
         },
         {
          "font": {
           "color": "#000000"
          },
          "showarrow": false,
          "text": "0.18",
          "x": "danceability",
          "xref": "x",
          "y": "energy",
          "yref": "y"
         },
         {
          "font": {
           "color": "#FFFFFF"
          },
          "showarrow": false,
          "text": "1.0",
          "x": "energy",
          "xref": "x",
          "y": "energy",
          "yref": "y"
         },
         {
          "font": {
           "color": "#000000"
          },
          "showarrow": false,
          "text": "0.07",
          "x": "key",
          "xref": "x",
          "y": "energy",
          "yref": "y"
         },
         {
          "font": {
           "color": "#000000"
          },
          "showarrow": false,
          "text": "-0.05",
          "x": "mode",
          "xref": "x",
          "y": "energy",
          "yref": "y"
         },
         {
          "font": {
           "color": "#FFFFFF"
          },
          "showarrow": false,
          "text": "0.7",
          "x": "loudness",
          "xref": "x",
          "y": "energy",
          "yref": "y"
         },
         {
          "font": {
           "color": "#000000"
          },
          "showarrow": false,
          "text": "0.05",
          "x": "speechiness",
          "xref": "x",
          "y": "energy",
          "yref": "y"
         },
         {
          "font": {
           "color": "#000000"
          },
          "showarrow": false,
          "text": "-0.58",
          "x": "acousticness",
          "xref": "x",
          "y": "energy",
          "yref": "y"
         },
         {
          "font": {
           "color": "#000000"
          },
          "showarrow": false,
          "text": "-0.06",
          "x": "instrumentalness",
          "xref": "x",
          "y": "energy",
          "yref": "y"
         },
         {
          "font": {
           "color": "#000000"
          },
          "showarrow": false,
          "text": "0.13",
          "x": "liveness",
          "xref": "x",
          "y": "energy",
          "yref": "y"
         },
         {
          "font": {
           "color": "#FFFFFF"
          },
          "showarrow": false,
          "text": "0.34",
          "x": "valence",
          "xref": "x",
          "y": "energy",
          "yref": "y"
         },
         {
          "font": {
           "color": "#000000"
          },
          "showarrow": false,
          "text": "0.08",
          "x": "tempo",
          "xref": "x",
          "y": "energy",
          "yref": "y"
         },
         {
          "font": {
           "color": "#000000"
          },
          "showarrow": false,
          "text": "0.07",
          "x": "tempo_name",
          "xref": "x",
          "y": "energy",
          "yref": "y"
         },
         {
          "font": {
           "color": "#000000"
          },
          "showarrow": false,
          "text": "0.04",
          "x": "duration_min",
          "xref": "x",
          "y": "energy",
          "yref": "y"
         },
         {
          "font": {
           "color": "#000000"
          },
          "showarrow": false,
          "text": "0.06",
          "x": "danceability",
          "xref": "x",
          "y": "key",
          "yref": "y"
         },
         {
          "font": {
           "color": "#000000"
          },
          "showarrow": false,
          "text": "0.07",
          "x": "energy",
          "xref": "x",
          "y": "key",
          "yref": "y"
         },
         {
          "font": {
           "color": "#FFFFFF"
          },
          "showarrow": false,
          "text": "1.0",
          "x": "key",
          "xref": "x",
          "y": "key",
          "yref": "y"
         },
         {
          "font": {
           "color": "#000000"
          },
          "showarrow": false,
          "text": "-0.14",
          "x": "mode",
          "xref": "x",
          "y": "key",
          "yref": "y"
         },
         {
          "font": {
           "color": "#000000"
          },
          "showarrow": false,
          "text": "0.05",
          "x": "loudness",
          "xref": "x",
          "y": "key",
          "yref": "y"
         },
         {
          "font": {
           "color": "#000000"
          },
          "showarrow": false,
          "text": "0.04",
          "x": "speechiness",
          "xref": "x",
          "y": "key",
          "yref": "y"
         },
         {
          "font": {
           "color": "#000000"
          },
          "showarrow": false,
          "text": "-0.03",
          "x": "acousticness",
          "xref": "x",
          "y": "key",
          "yref": "y"
         },
         {
          "font": {
           "color": "#000000"
          },
          "showarrow": false,
          "text": "0.02",
          "x": "instrumentalness",
          "xref": "x",
          "y": "key",
          "yref": "y"
         },
         {
          "font": {
           "color": "#000000"
          },
          "showarrow": false,
          "text": "0.0",
          "x": "liveness",
          "xref": "x",
          "y": "key",
          "yref": "y"
         },
         {
          "font": {
           "color": "#000000"
          },
          "showarrow": false,
          "text": "0.07",
          "x": "valence",
          "xref": "x",
          "y": "key",
          "yref": "y"
         },
         {
          "font": {
           "color": "#000000"
          },
          "showarrow": false,
          "text": "-0.01",
          "x": "tempo",
          "xref": "x",
          "y": "key",
          "yref": "y"
         },
         {
          "font": {
           "color": "#000000"
          },
          "showarrow": false,
          "text": "-0.01",
          "x": "tempo_name",
          "xref": "x",
          "y": "key",
          "yref": "y"
         },
         {
          "font": {
           "color": "#000000"
          },
          "showarrow": false,
          "text": "-0.02",
          "x": "duration_min",
          "xref": "x",
          "y": "key",
          "yref": "y"
         },
         {
          "font": {
           "color": "#000000"
          },
          "showarrow": false,
          "text": "-0.14",
          "x": "danceability",
          "xref": "x",
          "y": "mode",
          "yref": "y"
         },
         {
          "font": {
           "color": "#000000"
          },
          "showarrow": false,
          "text": "-0.05",
          "x": "energy",
          "xref": "x",
          "y": "mode",
          "yref": "y"
         },
         {
          "font": {
           "color": "#000000"
          },
          "showarrow": false,
          "text": "-0.14",
          "x": "key",
          "xref": "x",
          "y": "mode",
          "yref": "y"
         },
         {
          "font": {
           "color": "#FFFFFF"
          },
          "showarrow": false,
          "text": "1.0",
          "x": "mode",
          "xref": "x",
          "y": "mode",
          "yref": "y"
         },
         {
          "font": {
           "color": "#000000"
          },
          "showarrow": false,
          "text": "-0.02",
          "x": "loudness",
          "xref": "x",
          "y": "mode",
          "yref": "y"
         },
         {
          "font": {
           "color": "#000000"
          },
          "showarrow": false,
          "text": "-0.12",
          "x": "speechiness",
          "xref": "x",
          "y": "mode",
          "yref": "y"
         },
         {
          "font": {
           "color": "#000000"
          },
          "showarrow": false,
          "text": "0.07",
          "x": "acousticness",
          "xref": "x",
          "y": "mode",
          "yref": "y"
         },
         {
          "font": {
           "color": "#000000"
          },
          "showarrow": false,
          "text": "-0.0",
          "x": "instrumentalness",
          "xref": "x",
          "y": "mode",
          "yref": "y"
         },
         {
          "font": {
           "color": "#000000"
          },
          "showarrow": false,
          "text": "0.04",
          "x": "liveness",
          "xref": "x",
          "y": "mode",
          "yref": "y"
         },
         {
          "font": {
           "color": "#000000"
          },
          "showarrow": false,
          "text": "0.02",
          "x": "valence",
          "xref": "x",
          "y": "mode",
          "yref": "y"
         },
         {
          "font": {
           "color": "#000000"
          },
          "showarrow": false,
          "text": "0.02",
          "x": "tempo",
          "xref": "x",
          "y": "mode",
          "yref": "y"
         },
         {
          "font": {
           "color": "#000000"
          },
          "showarrow": false,
          "text": "0.03",
          "x": "tempo_name",
          "xref": "x",
          "y": "mode",
          "yref": "y"
         },
         {
          "font": {
           "color": "#000000"
          },
          "showarrow": false,
          "text": "0.03",
          "x": "duration_min",
          "xref": "x",
          "y": "mode",
          "yref": "y"
         },
         {
          "font": {
           "color": "#FFFFFF"
          },
          "showarrow": false,
          "text": "0.24",
          "x": "danceability",
          "xref": "x",
          "y": "loudness",
          "yref": "y"
         },
         {
          "font": {
           "color": "#FFFFFF"
          },
          "showarrow": false,
          "text": "0.7",
          "x": "energy",
          "xref": "x",
          "y": "loudness",
          "yref": "y"
         },
         {
          "font": {
           "color": "#000000"
          },
          "showarrow": false,
          "text": "0.05",
          "x": "key",
          "xref": "x",
          "y": "loudness",
          "yref": "y"
         },
         {
          "font": {
           "color": "#000000"
          },
          "showarrow": false,
          "text": "-0.02",
          "x": "mode",
          "xref": "x",
          "y": "loudness",
          "yref": "y"
         },
         {
          "font": {
           "color": "#FFFFFF"
          },
          "showarrow": false,
          "text": "1.0",
          "x": "loudness",
          "xref": "x",
          "y": "loudness",
          "yref": "y"
         },
         {
          "font": {
           "color": "#000000"
          },
          "showarrow": false,
          "text": "-0.03",
          "x": "speechiness",
          "xref": "x",
          "y": "loudness",
          "yref": "y"
         },
         {
          "font": {
           "color": "#000000"
          },
          "showarrow": false,
          "text": "-0.44",
          "x": "acousticness",
          "xref": "x",
          "y": "loudness",
          "yref": "y"
         },
         {
          "font": {
           "color": "#000000"
          },
          "showarrow": false,
          "text": "-0.19",
          "x": "instrumentalness",
          "xref": "x",
          "y": "loudness",
          "yref": "y"
         },
         {
          "font": {
           "color": "#000000"
          },
          "showarrow": false,
          "text": "0.06",
          "x": "liveness",
          "xref": "x",
          "y": "loudness",
          "yref": "y"
         },
         {
          "font": {
           "color": "#FFFFFF"
          },
          "showarrow": false,
          "text": "0.27",
          "x": "valence",
          "xref": "x",
          "y": "loudness",
          "yref": "y"
         },
         {
          "font": {
           "color": "#000000"
          },
          "showarrow": false,
          "text": "0.05",
          "x": "tempo",
          "xref": "x",
          "y": "loudness",
          "yref": "y"
         },
         {
          "font": {
           "color": "#000000"
          },
          "showarrow": false,
          "text": "0.04",
          "x": "tempo_name",
          "xref": "x",
          "y": "loudness",
          "yref": "y"
         },
         {
          "font": {
           "color": "#000000"
          },
          "showarrow": false,
          "text": "0.02",
          "x": "duration_min",
          "xref": "x",
          "y": "loudness",
          "yref": "y"
         },
         {
          "font": {
           "color": "#FFFFFF"
          },
          "showarrow": false,
          "text": "0.23",
          "x": "danceability",
          "xref": "x",
          "y": "speechiness",
          "yref": "y"
         },
         {
          "font": {
           "color": "#000000"
          },
          "showarrow": false,
          "text": "0.05",
          "x": "energy",
          "xref": "x",
          "y": "speechiness",
          "yref": "y"
         },
         {
          "font": {
           "color": "#000000"
          },
          "showarrow": false,
          "text": "0.04",
          "x": "key",
          "xref": "x",
          "y": "speechiness",
          "yref": "y"
         },
         {
          "font": {
           "color": "#000000"
          },
          "showarrow": false,
          "text": "-0.12",
          "x": "mode",
          "xref": "x",
          "y": "speechiness",
          "yref": "y"
         },
         {
          "font": {
           "color": "#000000"
          },
          "showarrow": false,
          "text": "-0.03",
          "x": "loudness",
          "xref": "x",
          "y": "speechiness",
          "yref": "y"
         },
         {
          "font": {
           "color": "#FFFFFF"
          },
          "showarrow": false,
          "text": "1.0",
          "x": "speechiness",
          "xref": "x",
          "y": "speechiness",
          "yref": "y"
         },
         {
          "font": {
           "color": "#000000"
          },
          "showarrow": false,
          "text": "-0.13",
          "x": "acousticness",
          "xref": "x",
          "y": "speechiness",
          "yref": "y"
         },
         {
          "font": {
           "color": "#000000"
          },
          "showarrow": false,
          "text": "-0.07",
          "x": "instrumentalness",
          "xref": "x",
          "y": "speechiness",
          "yref": "y"
         },
         {
          "font": {
           "color": "#000000"
          },
          "showarrow": false,
          "text": "0.04",
          "x": "liveness",
          "xref": "x",
          "y": "speechiness",
          "yref": "y"
         },
         {
          "font": {
           "color": "#000000"
          },
          "showarrow": false,
          "text": "0.01",
          "x": "valence",
          "xref": "x",
          "y": "speechiness",
          "yref": "y"
         },
         {
          "font": {
           "color": "#000000"
          },
          "showarrow": false,
          "text": "0.07",
          "x": "tempo",
          "xref": "x",
          "y": "speechiness",
          "yref": "y"
         },
         {
          "font": {
           "color": "#000000"
          },
          "showarrow": false,
          "text": "0.03",
          "x": "tempo_name",
          "xref": "x",
          "y": "speechiness",
          "yref": "y"
         },
         {
          "font": {
           "color": "#000000"
          },
          "showarrow": false,
          "text": "-0.07",
          "x": "duration_min",
          "xref": "x",
          "y": "speechiness",
          "yref": "y"
         },
         {
          "font": {
           "color": "#000000"
          },
          "showarrow": false,
          "text": "-0.27",
          "x": "danceability",
          "xref": "x",
          "y": "acousticness",
          "yref": "y"
         },
         {
          "font": {
           "color": "#000000"
          },
          "showarrow": false,
          "text": "-0.58",
          "x": "energy",
          "xref": "x",
          "y": "acousticness",
          "yref": "y"
         },
         {
          "font": {
           "color": "#000000"
          },
          "showarrow": false,
          "text": "-0.03",
          "x": "key",
          "xref": "x",
          "y": "acousticness",
          "yref": "y"
         },
         {
          "font": {
           "color": "#000000"
          },
          "showarrow": false,
          "text": "0.07",
          "x": "mode",
          "xref": "x",
          "y": "acousticness",
          "yref": "y"
         },
         {
          "font": {
           "color": "#000000"
          },
          "showarrow": false,
          "text": "-0.44",
          "x": "loudness",
          "xref": "x",
          "y": "acousticness",
          "yref": "y"
         },
         {
          "font": {
           "color": "#000000"
          },
          "showarrow": false,
          "text": "-0.13",
          "x": "speechiness",
          "xref": "x",
          "y": "acousticness",
          "yref": "y"
         },
         {
          "font": {
           "color": "#FFFFFF"
          },
          "showarrow": false,
          "text": "1.0",
          "x": "acousticness",
          "xref": "x",
          "y": "acousticness",
          "yref": "y"
         },
         {
          "font": {
           "color": "#000000"
          },
          "showarrow": false,
          "text": "0.06",
          "x": "instrumentalness",
          "xref": "x",
          "y": "acousticness",
          "yref": "y"
         },
         {
          "font": {
           "color": "#000000"
          },
          "showarrow": false,
          "text": "-0.05",
          "x": "liveness",
          "xref": "x",
          "y": "acousticness",
          "yref": "y"
         },
         {
          "font": {
           "color": "#000000"
          },
          "showarrow": false,
          "text": "-0.06",
          "x": "valence",
          "xref": "x",
          "y": "acousticness",
          "yref": "y"
         },
         {
          "font": {
           "color": "#000000"
          },
          "showarrow": false,
          "text": "-0.07",
          "x": "tempo",
          "xref": "x",
          "y": "acousticness",
          "yref": "y"
         },
         {
          "font": {
           "color": "#000000"
          },
          "showarrow": false,
          "text": "-0.07",
          "x": "tempo_name",
          "xref": "x",
          "y": "acousticness",
          "yref": "y"
         },
         {
          "font": {
           "color": "#000000"
          },
          "showarrow": false,
          "text": "-0.01",
          "x": "duration_min",
          "xref": "x",
          "y": "acousticness",
          "yref": "y"
         },
         {
          "font": {
           "color": "#000000"
          },
          "showarrow": false,
          "text": "-0.1",
          "x": "danceability",
          "xref": "x",
          "y": "instrumentalness",
          "yref": "y"
         },
         {
          "font": {
           "color": "#000000"
          },
          "showarrow": false,
          "text": "-0.06",
          "x": "energy",
          "xref": "x",
          "y": "instrumentalness",
          "yref": "y"
         },
         {
          "font": {
           "color": "#000000"
          },
          "showarrow": false,
          "text": "0.02",
          "x": "key",
          "xref": "x",
          "y": "instrumentalness",
          "yref": "y"
         },
         {
          "font": {
           "color": "#000000"
          },
          "showarrow": false,
          "text": "-0.0",
          "x": "mode",
          "xref": "x",
          "y": "instrumentalness",
          "yref": "y"
         },
         {
          "font": {
           "color": "#000000"
          },
          "showarrow": false,
          "text": "-0.19",
          "x": "loudness",
          "xref": "x",
          "y": "instrumentalness",
          "yref": "y"
         },
         {
          "font": {
           "color": "#000000"
          },
          "showarrow": false,
          "text": "-0.07",
          "x": "speechiness",
          "xref": "x",
          "y": "instrumentalness",
          "yref": "y"
         },
         {
          "font": {
           "color": "#000000"
          },
          "showarrow": false,
          "text": "0.06",
          "x": "acousticness",
          "xref": "x",
          "y": "instrumentalness",
          "yref": "y"
         },
         {
          "font": {
           "color": "#FFFFFF"
          },
          "showarrow": false,
          "text": "1.0",
          "x": "instrumentalness",
          "xref": "x",
          "y": "instrumentalness",
          "yref": "y"
         },
         {
          "font": {
           "color": "#000000"
          },
          "showarrow": false,
          "text": "-0.0",
          "x": "liveness",
          "xref": "x",
          "y": "instrumentalness",
          "yref": "y"
         },
         {
          "font": {
           "color": "#000000"
          },
          "showarrow": false,
          "text": "-0.08",
          "x": "valence",
          "xref": "x",
          "y": "instrumentalness",
          "yref": "y"
         },
         {
          "font": {
           "color": "#000000"
          },
          "showarrow": false,
          "text": "-0.02",
          "x": "tempo",
          "xref": "x",
          "y": "instrumentalness",
          "yref": "y"
         },
         {
          "font": {
           "color": "#000000"
          },
          "showarrow": false,
          "text": "-0.01",
          "x": "tempo_name",
          "xref": "x",
          "y": "instrumentalness",
          "yref": "y"
         },
         {
          "font": {
           "color": "#000000"
          },
          "showarrow": false,
          "text": "0.02",
          "x": "duration_min",
          "xref": "x",
          "y": "instrumentalness",
          "yref": "y"
         },
         {
          "font": {
           "color": "#000000"
          },
          "showarrow": false,
          "text": "-0.08",
          "x": "danceability",
          "xref": "x",
          "y": "liveness",
          "yref": "y"
         },
         {
          "font": {
           "color": "#000000"
          },
          "showarrow": false,
          "text": "0.13",
          "x": "energy",
          "xref": "x",
          "y": "liveness",
          "yref": "y"
         },
         {
          "font": {
           "color": "#000000"
          },
          "showarrow": false,
          "text": "0.0",
          "x": "key",
          "xref": "x",
          "y": "liveness",
          "yref": "y"
         },
         {
          "font": {
           "color": "#000000"
          },
          "showarrow": false,
          "text": "0.04",
          "x": "mode",
          "xref": "x",
          "y": "liveness",
          "yref": "y"
         },
         {
          "font": {
           "color": "#000000"
          },
          "showarrow": false,
          "text": "0.06",
          "x": "loudness",
          "xref": "x",
          "y": "liveness",
          "yref": "y"
         },
         {
          "font": {
           "color": "#000000"
          },
          "showarrow": false,
          "text": "0.04",
          "x": "speechiness",
          "xref": "x",
          "y": "liveness",
          "yref": "y"
         },
         {
          "font": {
           "color": "#000000"
          },
          "showarrow": false,
          "text": "-0.05",
          "x": "acousticness",
          "xref": "x",
          "y": "liveness",
          "yref": "y"
         },
         {
          "font": {
           "color": "#000000"
          },
          "showarrow": false,
          "text": "-0.0",
          "x": "instrumentalness",
          "xref": "x",
          "y": "liveness",
          "yref": "y"
         },
         {
          "font": {
           "color": "#FFFFFF"
          },
          "showarrow": false,
          "text": "1.0",
          "x": "liveness",
          "xref": "x",
          "y": "liveness",
          "yref": "y"
         },
         {
          "font": {
           "color": "#000000"
          },
          "showarrow": false,
          "text": "0.03",
          "x": "valence",
          "xref": "x",
          "y": "liveness",
          "yref": "y"
         },
         {
          "font": {
           "color": "#000000"
          },
          "showarrow": false,
          "text": "-0.01",
          "x": "tempo",
          "xref": "x",
          "y": "liveness",
          "yref": "y"
         },
         {
          "font": {
           "color": "#000000"
          },
          "showarrow": false,
          "text": "-0.0",
          "x": "tempo_name",
          "xref": "x",
          "y": "liveness",
          "yref": "y"
         },
         {
          "font": {
           "color": "#000000"
          },
          "showarrow": false,
          "text": "0.01",
          "x": "duration_min",
          "xref": "x",
          "y": "liveness",
          "yref": "y"
         },
         {
          "font": {
           "color": "#FFFFFF"
          },
          "showarrow": false,
          "text": "0.34",
          "x": "danceability",
          "xref": "x",
          "y": "valence",
          "yref": "y"
         },
         {
          "font": {
           "color": "#FFFFFF"
          },
          "showarrow": false,
          "text": "0.34",
          "x": "energy",
          "xref": "x",
          "y": "valence",
          "yref": "y"
         },
         {
          "font": {
           "color": "#000000"
          },
          "showarrow": false,
          "text": "0.07",
          "x": "key",
          "xref": "x",
          "y": "valence",
          "yref": "y"
         },
         {
          "font": {
           "color": "#000000"
          },
          "showarrow": false,
          "text": "0.02",
          "x": "mode",
          "xref": "x",
          "y": "valence",
          "yref": "y"
         },
         {
          "font": {
           "color": "#FFFFFF"
          },
          "showarrow": false,
          "text": "0.27",
          "x": "loudness",
          "xref": "x",
          "y": "valence",
          "yref": "y"
         },
         {
          "font": {
           "color": "#000000"
          },
          "showarrow": false,
          "text": "0.01",
          "x": "speechiness",
          "xref": "x",
          "y": "valence",
          "yref": "y"
         },
         {
          "font": {
           "color": "#000000"
          },
          "showarrow": false,
          "text": "-0.06",
          "x": "acousticness",
          "xref": "x",
          "y": "valence",
          "yref": "y"
         },
         {
          "font": {
           "color": "#000000"
          },
          "showarrow": false,
          "text": "-0.08",
          "x": "instrumentalness",
          "xref": "x",
          "y": "valence",
          "yref": "y"
         },
         {
          "font": {
           "color": "#000000"
          },
          "showarrow": false,
          "text": "0.03",
          "x": "liveness",
          "xref": "x",
          "y": "valence",
          "yref": "y"
         },
         {
          "font": {
           "color": "#FFFFFF"
          },
          "showarrow": false,
          "text": "1.0",
          "x": "valence",
          "xref": "x",
          "y": "valence",
          "yref": "y"
         },
         {
          "font": {
           "color": "#000000"
          },
          "showarrow": false,
          "text": "0.03",
          "x": "tempo",
          "xref": "x",
          "y": "valence",
          "yref": "y"
         },
         {
          "font": {
           "color": "#000000"
          },
          "showarrow": false,
          "text": "0.02",
          "x": "tempo_name",
          "xref": "x",
          "y": "valence",
          "yref": "y"
         },
         {
          "font": {
           "color": "#000000"
          },
          "showarrow": false,
          "text": "-0.14",
          "x": "duration_min",
          "xref": "x",
          "y": "valence",
          "yref": "y"
         },
         {
          "font": {
           "color": "#000000"
          },
          "showarrow": false,
          "text": "-0.1",
          "x": "danceability",
          "xref": "x",
          "y": "tempo",
          "yref": "y"
         },
         {
          "font": {
           "color": "#000000"
          },
          "showarrow": false,
          "text": "0.08",
          "x": "energy",
          "xref": "x",
          "y": "tempo",
          "yref": "y"
         },
         {
          "font": {
           "color": "#000000"
          },
          "showarrow": false,
          "text": "-0.01",
          "x": "key",
          "xref": "x",
          "y": "tempo",
          "yref": "y"
         },
         {
          "font": {
           "color": "#000000"
          },
          "showarrow": false,
          "text": "0.02",
          "x": "mode",
          "xref": "x",
          "y": "tempo",
          "yref": "y"
         },
         {
          "font": {
           "color": "#000000"
          },
          "showarrow": false,
          "text": "0.05",
          "x": "loudness",
          "xref": "x",
          "y": "tempo",
          "yref": "y"
         },
         {
          "font": {
           "color": "#000000"
          },
          "showarrow": false,
          "text": "0.07",
          "x": "speechiness",
          "xref": "x",
          "y": "tempo",
          "yref": "y"
         },
         {
          "font": {
           "color": "#000000"
          },
          "showarrow": false,
          "text": "-0.07",
          "x": "acousticness",
          "xref": "x",
          "y": "tempo",
          "yref": "y"
         },
         {
          "font": {
           "color": "#000000"
          },
          "showarrow": false,
          "text": "-0.02",
          "x": "instrumentalness",
          "xref": "x",
          "y": "tempo",
          "yref": "y"
         },
         {
          "font": {
           "color": "#000000"
          },
          "showarrow": false,
          "text": "-0.01",
          "x": "liveness",
          "xref": "x",
          "y": "tempo",
          "yref": "y"
         },
         {
          "font": {
           "color": "#000000"
          },
          "showarrow": false,
          "text": "0.03",
          "x": "valence",
          "xref": "x",
          "y": "tempo",
          "yref": "y"
         },
         {
          "font": {
           "color": "#FFFFFF"
          },
          "showarrow": false,
          "text": "1.0",
          "x": "tempo",
          "xref": "x",
          "y": "tempo",
          "yref": "y"
         },
         {
          "font": {
           "color": "#FFFFFF"
          },
          "showarrow": false,
          "text": "0.95",
          "x": "tempo_name",
          "xref": "x",
          "y": "tempo",
          "yref": "y"
         },
         {
          "font": {
           "color": "#000000"
          },
          "showarrow": false,
          "text": "-0.0",
          "x": "duration_min",
          "xref": "x",
          "y": "tempo",
          "yref": "y"
         },
         {
          "font": {
           "color": "#000000"
          },
          "showarrow": false,
          "text": "-0.05",
          "x": "danceability",
          "xref": "x",
          "y": "tempo_name",
          "yref": "y"
         },
         {
          "font": {
           "color": "#000000"
          },
          "showarrow": false,
          "text": "0.07",
          "x": "energy",
          "xref": "x",
          "y": "tempo_name",
          "yref": "y"
         },
         {
          "font": {
           "color": "#000000"
          },
          "showarrow": false,
          "text": "-0.01",
          "x": "key",
          "xref": "x",
          "y": "tempo_name",
          "yref": "y"
         },
         {
          "font": {
           "color": "#000000"
          },
          "showarrow": false,
          "text": "0.03",
          "x": "mode",
          "xref": "x",
          "y": "tempo_name",
          "yref": "y"
         },
         {
          "font": {
           "color": "#000000"
          },
          "showarrow": false,
          "text": "0.04",
          "x": "loudness",
          "xref": "x",
          "y": "tempo_name",
          "yref": "y"
         },
         {
          "font": {
           "color": "#000000"
          },
          "showarrow": false,
          "text": "0.03",
          "x": "speechiness",
          "xref": "x",
          "y": "tempo_name",
          "yref": "y"
         },
         {
          "font": {
           "color": "#000000"
          },
          "showarrow": false,
          "text": "-0.07",
          "x": "acousticness",
          "xref": "x",
          "y": "tempo_name",
          "yref": "y"
         },
         {
          "font": {
           "color": "#000000"
          },
          "showarrow": false,
          "text": "-0.01",
          "x": "instrumentalness",
          "xref": "x",
          "y": "tempo_name",
          "yref": "y"
         },
         {
          "font": {
           "color": "#000000"
          },
          "showarrow": false,
          "text": "-0.0",
          "x": "liveness",
          "xref": "x",
          "y": "tempo_name",
          "yref": "y"
         },
         {
          "font": {
           "color": "#000000"
          },
          "showarrow": false,
          "text": "0.02",
          "x": "valence",
          "xref": "x",
          "y": "tempo_name",
          "yref": "y"
         },
         {
          "font": {
           "color": "#FFFFFF"
          },
          "showarrow": false,
          "text": "0.95",
          "x": "tempo",
          "xref": "x",
          "y": "tempo_name",
          "yref": "y"
         },
         {
          "font": {
           "color": "#FFFFFF"
          },
          "showarrow": false,
          "text": "1.0",
          "x": "tempo_name",
          "xref": "x",
          "y": "tempo_name",
          "yref": "y"
         },
         {
          "font": {
           "color": "#000000"
          },
          "showarrow": false,
          "text": "-0.01",
          "x": "duration_min",
          "xref": "x",
          "y": "tempo_name",
          "yref": "y"
         },
         {
          "font": {
           "color": "#000000"
          },
          "showarrow": false,
          "text": "-0.16",
          "x": "danceability",
          "xref": "x",
          "y": "duration_min",
          "yref": "y"
         },
         {
          "font": {
           "color": "#000000"
          },
          "showarrow": false,
          "text": "0.04",
          "x": "energy",
          "xref": "x",
          "y": "duration_min",
          "yref": "y"
         },
         {
          "font": {
           "color": "#000000"
          },
          "showarrow": false,
          "text": "-0.02",
          "x": "key",
          "xref": "x",
          "y": "duration_min",
          "yref": "y"
         },
         {
          "font": {
           "color": "#000000"
          },
          "showarrow": false,
          "text": "0.03",
          "x": "mode",
          "xref": "x",
          "y": "duration_min",
          "yref": "y"
         },
         {
          "font": {
           "color": "#000000"
          },
          "showarrow": false,
          "text": "0.02",
          "x": "loudness",
          "xref": "x",
          "y": "duration_min",
          "yref": "y"
         },
         {
          "font": {
           "color": "#000000"
          },
          "showarrow": false,
          "text": "-0.07",
          "x": "speechiness",
          "xref": "x",
          "y": "duration_min",
          "yref": "y"
         },
         {
          "font": {
           "color": "#000000"
          },
          "showarrow": false,
          "text": "-0.01",
          "x": "acousticness",
          "xref": "x",
          "y": "duration_min",
          "yref": "y"
         },
         {
          "font": {
           "color": "#000000"
          },
          "showarrow": false,
          "text": "0.02",
          "x": "instrumentalness",
          "xref": "x",
          "y": "duration_min",
          "yref": "y"
         },
         {
          "font": {
           "color": "#000000"
          },
          "showarrow": false,
          "text": "0.01",
          "x": "liveness",
          "xref": "x",
          "y": "duration_min",
          "yref": "y"
         },
         {
          "font": {
           "color": "#000000"
          },
          "showarrow": false,
          "text": "-0.14",
          "x": "valence",
          "xref": "x",
          "y": "duration_min",
          "yref": "y"
         },
         {
          "font": {
           "color": "#000000"
          },
          "showarrow": false,
          "text": "-0.0",
          "x": "tempo",
          "xref": "x",
          "y": "duration_min",
          "yref": "y"
         },
         {
          "font": {
           "color": "#000000"
          },
          "showarrow": false,
          "text": "-0.01",
          "x": "tempo_name",
          "xref": "x",
          "y": "duration_min",
          "yref": "y"
         },
         {
          "font": {
           "color": "#FFFFFF"
          },
          "showarrow": false,
          "text": "1.0",
          "x": "duration_min",
          "xref": "x",
          "y": "duration_min",
          "yref": "y"
         }
        ],
        "template": {
         "data": {
          "bar": [
           {
            "error_x": {
             "color": "#2a3f5f"
            },
            "error_y": {
             "color": "#2a3f5f"
            },
            "marker": {
             "line": {
              "color": "#E5ECF6",
              "width": 0.5
             },
             "pattern": {
              "fillmode": "overlay",
              "size": 10,
              "solidity": 0.2
             }
            },
            "type": "bar"
           }
          ],
          "barpolar": [
           {
            "marker": {
             "line": {
              "color": "#E5ECF6",
              "width": 0.5
             },
             "pattern": {
              "fillmode": "overlay",
              "size": 10,
              "solidity": 0.2
             }
            },
            "type": "barpolar"
           }
          ],
          "carpet": [
           {
            "aaxis": {
             "endlinecolor": "#2a3f5f",
             "gridcolor": "white",
             "linecolor": "white",
             "minorgridcolor": "white",
             "startlinecolor": "#2a3f5f"
            },
            "baxis": {
             "endlinecolor": "#2a3f5f",
             "gridcolor": "white",
             "linecolor": "white",
             "minorgridcolor": "white",
             "startlinecolor": "#2a3f5f"
            },
            "type": "carpet"
           }
          ],
          "choropleth": [
           {
            "colorbar": {
             "outlinewidth": 0,
             "ticks": ""
            },
            "type": "choropleth"
           }
          ],
          "contour": [
           {
            "colorbar": {
             "outlinewidth": 0,
             "ticks": ""
            },
            "colorscale": [
             [
              0,
              "#0d0887"
             ],
             [
              0.1111111111111111,
              "#46039f"
             ],
             [
              0.2222222222222222,
              "#7201a8"
             ],
             [
              0.3333333333333333,
              "#9c179e"
             ],
             [
              0.4444444444444444,
              "#bd3786"
             ],
             [
              0.5555555555555556,
              "#d8576b"
             ],
             [
              0.6666666666666666,
              "#ed7953"
             ],
             [
              0.7777777777777778,
              "#fb9f3a"
             ],
             [
              0.8888888888888888,
              "#fdca26"
             ],
             [
              1,
              "#f0f921"
             ]
            ],
            "type": "contour"
           }
          ],
          "contourcarpet": [
           {
            "colorbar": {
             "outlinewidth": 0,
             "ticks": ""
            },
            "type": "contourcarpet"
           }
          ],
          "heatmap": [
           {
            "colorbar": {
             "outlinewidth": 0,
             "ticks": ""
            },
            "colorscale": [
             [
              0,
              "#0d0887"
             ],
             [
              0.1111111111111111,
              "#46039f"
             ],
             [
              0.2222222222222222,
              "#7201a8"
             ],
             [
              0.3333333333333333,
              "#9c179e"
             ],
             [
              0.4444444444444444,
              "#bd3786"
             ],
             [
              0.5555555555555556,
              "#d8576b"
             ],
             [
              0.6666666666666666,
              "#ed7953"
             ],
             [
              0.7777777777777778,
              "#fb9f3a"
             ],
             [
              0.8888888888888888,
              "#fdca26"
             ],
             [
              1,
              "#f0f921"
             ]
            ],
            "type": "heatmap"
           }
          ],
          "heatmapgl": [
           {
            "colorbar": {
             "outlinewidth": 0,
             "ticks": ""
            },
            "colorscale": [
             [
              0,
              "#0d0887"
             ],
             [
              0.1111111111111111,
              "#46039f"
             ],
             [
              0.2222222222222222,
              "#7201a8"
             ],
             [
              0.3333333333333333,
              "#9c179e"
             ],
             [
              0.4444444444444444,
              "#bd3786"
             ],
             [
              0.5555555555555556,
              "#d8576b"
             ],
             [
              0.6666666666666666,
              "#ed7953"
             ],
             [
              0.7777777777777778,
              "#fb9f3a"
             ],
             [
              0.8888888888888888,
              "#fdca26"
             ],
             [
              1,
              "#f0f921"
             ]
            ],
            "type": "heatmapgl"
           }
          ],
          "histogram": [
           {
            "marker": {
             "pattern": {
              "fillmode": "overlay",
              "size": 10,
              "solidity": 0.2
             }
            },
            "type": "histogram"
           }
          ],
          "histogram2d": [
           {
            "colorbar": {
             "outlinewidth": 0,
             "ticks": ""
            },
            "colorscale": [
             [
              0,
              "#0d0887"
             ],
             [
              0.1111111111111111,
              "#46039f"
             ],
             [
              0.2222222222222222,
              "#7201a8"
             ],
             [
              0.3333333333333333,
              "#9c179e"
             ],
             [
              0.4444444444444444,
              "#bd3786"
             ],
             [
              0.5555555555555556,
              "#d8576b"
             ],
             [
              0.6666666666666666,
              "#ed7953"
             ],
             [
              0.7777777777777778,
              "#fb9f3a"
             ],
             [
              0.8888888888888888,
              "#fdca26"
             ],
             [
              1,
              "#f0f921"
             ]
            ],
            "type": "histogram2d"
           }
          ],
          "histogram2dcontour": [
           {
            "colorbar": {
             "outlinewidth": 0,
             "ticks": ""
            },
            "colorscale": [
             [
              0,
              "#0d0887"
             ],
             [
              0.1111111111111111,
              "#46039f"
             ],
             [
              0.2222222222222222,
              "#7201a8"
             ],
             [
              0.3333333333333333,
              "#9c179e"
             ],
             [
              0.4444444444444444,
              "#bd3786"
             ],
             [
              0.5555555555555556,
              "#d8576b"
             ],
             [
              0.6666666666666666,
              "#ed7953"
             ],
             [
              0.7777777777777778,
              "#fb9f3a"
             ],
             [
              0.8888888888888888,
              "#fdca26"
             ],
             [
              1,
              "#f0f921"
             ]
            ],
            "type": "histogram2dcontour"
           }
          ],
          "mesh3d": [
           {
            "colorbar": {
             "outlinewidth": 0,
             "ticks": ""
            },
            "type": "mesh3d"
           }
          ],
          "parcoords": [
           {
            "line": {
             "colorbar": {
              "outlinewidth": 0,
              "ticks": ""
             }
            },
            "type": "parcoords"
           }
          ],
          "pie": [
           {
            "automargin": true,
            "type": "pie"
           }
          ],
          "scatter": [
           {
            "fillpattern": {
             "fillmode": "overlay",
             "size": 10,
             "solidity": 0.2
            },
            "type": "scatter"
           }
          ],
          "scatter3d": [
           {
            "line": {
             "colorbar": {
              "outlinewidth": 0,
              "ticks": ""
             }
            },
            "marker": {
             "colorbar": {
              "outlinewidth": 0,
              "ticks": ""
             }
            },
            "type": "scatter3d"
           }
          ],
          "scattercarpet": [
           {
            "marker": {
             "colorbar": {
              "outlinewidth": 0,
              "ticks": ""
             }
            },
            "type": "scattercarpet"
           }
          ],
          "scattergeo": [
           {
            "marker": {
             "colorbar": {
              "outlinewidth": 0,
              "ticks": ""
             }
            },
            "type": "scattergeo"
           }
          ],
          "scattergl": [
           {
            "marker": {
             "colorbar": {
              "outlinewidth": 0,
              "ticks": ""
             }
            },
            "type": "scattergl"
           }
          ],
          "scattermapbox": [
           {
            "marker": {
             "colorbar": {
              "outlinewidth": 0,
              "ticks": ""
             }
            },
            "type": "scattermapbox"
           }
          ],
          "scatterpolar": [
           {
            "marker": {
             "colorbar": {
              "outlinewidth": 0,
              "ticks": ""
             }
            },
            "type": "scatterpolar"
           }
          ],
          "scatterpolargl": [
           {
            "marker": {
             "colorbar": {
              "outlinewidth": 0,
              "ticks": ""
             }
            },
            "type": "scatterpolargl"
           }
          ],
          "scatterternary": [
           {
            "marker": {
             "colorbar": {
              "outlinewidth": 0,
              "ticks": ""
             }
            },
            "type": "scatterternary"
           }
          ],
          "surface": [
           {
            "colorbar": {
             "outlinewidth": 0,
             "ticks": ""
            },
            "colorscale": [
             [
              0,
              "#0d0887"
             ],
             [
              0.1111111111111111,
              "#46039f"
             ],
             [
              0.2222222222222222,
              "#7201a8"
             ],
             [
              0.3333333333333333,
              "#9c179e"
             ],
             [
              0.4444444444444444,
              "#bd3786"
             ],
             [
              0.5555555555555556,
              "#d8576b"
             ],
             [
              0.6666666666666666,
              "#ed7953"
             ],
             [
              0.7777777777777778,
              "#fb9f3a"
             ],
             [
              0.8888888888888888,
              "#fdca26"
             ],
             [
              1,
              "#f0f921"
             ]
            ],
            "type": "surface"
           }
          ],
          "table": [
           {
            "cells": {
             "fill": {
              "color": "#EBF0F8"
             },
             "line": {
              "color": "white"
             }
            },
            "header": {
             "fill": {
              "color": "#C8D4E3"
             },
             "line": {
              "color": "white"
             }
            },
            "type": "table"
           }
          ]
         },
         "layout": {
          "annotationdefaults": {
           "arrowcolor": "#2a3f5f",
           "arrowhead": 0,
           "arrowwidth": 1
          },
          "autotypenumbers": "strict",
          "coloraxis": {
           "colorbar": {
            "outlinewidth": 0,
            "ticks": ""
           }
          },
          "colorscale": {
           "diverging": [
            [
             0,
             "#8e0152"
            ],
            [
             0.1,
             "#c51b7d"
            ],
            [
             0.2,
             "#de77ae"
            ],
            [
             0.3,
             "#f1b6da"
            ],
            [
             0.4,
             "#fde0ef"
            ],
            [
             0.5,
             "#f7f7f7"
            ],
            [
             0.6,
             "#e6f5d0"
            ],
            [
             0.7,
             "#b8e186"
            ],
            [
             0.8,
             "#7fbc41"
            ],
            [
             0.9,
             "#4d9221"
            ],
            [
             1,
             "#276419"
            ]
           ],
           "sequential": [
            [
             0,
             "#0d0887"
            ],
            [
             0.1111111111111111,
             "#46039f"
            ],
            [
             0.2222222222222222,
             "#7201a8"
            ],
            [
             0.3333333333333333,
             "#9c179e"
            ],
            [
             0.4444444444444444,
             "#bd3786"
            ],
            [
             0.5555555555555556,
             "#d8576b"
            ],
            [
             0.6666666666666666,
             "#ed7953"
            ],
            [
             0.7777777777777778,
             "#fb9f3a"
            ],
            [
             0.8888888888888888,
             "#fdca26"
            ],
            [
             1,
             "#f0f921"
            ]
           ],
           "sequentialminus": [
            [
             0,
             "#0d0887"
            ],
            [
             0.1111111111111111,
             "#46039f"
            ],
            [
             0.2222222222222222,
             "#7201a8"
            ],
            [
             0.3333333333333333,
             "#9c179e"
            ],
            [
             0.4444444444444444,
             "#bd3786"
            ],
            [
             0.5555555555555556,
             "#d8576b"
            ],
            [
             0.6666666666666666,
             "#ed7953"
            ],
            [
             0.7777777777777778,
             "#fb9f3a"
            ],
            [
             0.8888888888888888,
             "#fdca26"
            ],
            [
             1,
             "#f0f921"
            ]
           ]
          },
          "colorway": [
           "#636efa",
           "#EF553B",
           "#00cc96",
           "#ab63fa",
           "#FFA15A",
           "#19d3f3",
           "#FF6692",
           "#B6E880",
           "#FF97FF",
           "#FECB52"
          ],
          "font": {
           "color": "#2a3f5f"
          },
          "geo": {
           "bgcolor": "white",
           "lakecolor": "white",
           "landcolor": "#E5ECF6",
           "showlakes": true,
           "showland": true,
           "subunitcolor": "white"
          },
          "hoverlabel": {
           "align": "left"
          },
          "hovermode": "closest",
          "mapbox": {
           "style": "light"
          },
          "paper_bgcolor": "white",
          "plot_bgcolor": "#E5ECF6",
          "polar": {
           "angularaxis": {
            "gridcolor": "white",
            "linecolor": "white",
            "ticks": ""
           },
           "bgcolor": "#E5ECF6",
           "radialaxis": {
            "gridcolor": "white",
            "linecolor": "white",
            "ticks": ""
           }
          },
          "scene": {
           "xaxis": {
            "backgroundcolor": "#E5ECF6",
            "gridcolor": "white",
            "gridwidth": 2,
            "linecolor": "white",
            "showbackground": true,
            "ticks": "",
            "zerolinecolor": "white"
           },
           "yaxis": {
            "backgroundcolor": "#E5ECF6",
            "gridcolor": "white",
            "gridwidth": 2,
            "linecolor": "white",
            "showbackground": true,
            "ticks": "",
            "zerolinecolor": "white"
           },
           "zaxis": {
            "backgroundcolor": "#E5ECF6",
            "gridcolor": "white",
            "gridwidth": 2,
            "linecolor": "white",
            "showbackground": true,
            "ticks": "",
            "zerolinecolor": "white"
           }
          },
          "shapedefaults": {
           "line": {
            "color": "#2a3f5f"
           }
          },
          "ternary": {
           "aaxis": {
            "gridcolor": "white",
            "linecolor": "white",
            "ticks": ""
           },
           "baxis": {
            "gridcolor": "white",
            "linecolor": "white",
            "ticks": ""
           },
           "bgcolor": "#E5ECF6",
           "caxis": {
            "gridcolor": "white",
            "linecolor": "white",
            "ticks": ""
           }
          },
          "title": {
           "x": 0.05
          },
          "xaxis": {
           "automargin": true,
           "gridcolor": "white",
           "linecolor": "white",
           "ticks": "",
           "title": {
            "standoff": 15
           },
           "zerolinecolor": "white",
           "zerolinewidth": 2
          },
          "yaxis": {
           "automargin": true,
           "gridcolor": "white",
           "linecolor": "white",
           "ticks": "",
           "title": {
            "standoff": 15
           },
           "zerolinecolor": "white",
           "zerolinewidth": 2
          }
         }
        },
        "title": {
         "font": {
          "size": 14
         },
         "text": "Correlation Heatmap of Audio Features",
         "x": 0.5
        },
        "xaxis": {
         "dtick": 1,
         "gridcolor": "rgb(0, 0, 0)",
         "side": "top",
         "ticks": ""
        },
        "yaxis": {
         "dtick": 1,
         "ticks": "",
         "ticksuffix": "  "
        }
       }
      }
     },
     "metadata": {},
     "output_type": "display_data"
    }
   ],
   "source": [
    "# Create a correlation matrix\n",
    "corr = charts.corr()\n",
    "\n",
    "# Convert the correlation matrix to a 1D array\n",
    "corr_arr = np.array(corr)\n",
    "\n",
    "# Create a heatmap\n",
    "heatmap = ff.create_annotated_heatmap(\n",
    "    z=corr_arr,\n",
    "    x=list(corr.columns),\n",
    "    y=list(corr.index),\n",
    "    annotation_text=corr_arr.round(2),\n",
    "    showscale=True,\n",
    "    colorscale='Purp',\n",
    ")\n",
    "\n",
    "# Add title\n",
    "heatmap.update_layout(title_text='Correlation Heatmap of Audio Features',\n",
    "                      title_x=0.5,\n",
    "                      title_font=dict(size=14),\n",
    "                      )\n",
    "\n",
    "# Display the heatmap\n",
    "heatmap.show()"
   ]
  },
  {
   "cell_type": "code",
   "execution_count": null,
   "metadata": {},
   "outputs": [],
   "source": []
  }
 ],
 "metadata": {
  "kernelspec": {
   "display_name": "Python 3",
   "language": "python",
   "name": "python3"
  },
  "language_info": {
   "codemirror_mode": {
    "name": "ipython",
    "version": 3
   },
   "file_extension": ".py",
   "mimetype": "text/x-python",
   "name": "python",
   "nbconvert_exporter": "python",
   "pygments_lexer": "ipython3",
   "version": "3.9.4"
  },
  "vscode": {
   "interpreter": {
    "hash": "d0c5cb6bf509a02cef9c56bf2eb97e86fe98bb4322bfa6beb984e4c134a4af93"
   }
  }
 },
 "nbformat": 4,
 "nbformat_minor": 2
}
