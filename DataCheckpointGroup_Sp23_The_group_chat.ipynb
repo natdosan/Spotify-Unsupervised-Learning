{
 "cells": [
  {
   "cell_type": "markdown",
   "metadata": {},
   "source": [
    "# COGS 108 - Data Checkpoint"
   ]
  },
  {
   "attachments": {},
   "cell_type": "markdown",
   "metadata": {},
   "source": [
    "# Names\n",
    "\n",
    "- Mateo Ignacio\n",
    "- Samuel Piltch\n",
    "- Nate del Rosario 🐐\n",
    "- Lisa Hwang\n",
    "- Geovaunii D. White"
   ]
  },
  {
   "cell_type": "markdown",
   "metadata": {},
   "source": [
    "<a id='research_question'></a>\n",
    "# Research Question"
   ]
  },
  {
   "attachments": {},
   "cell_type": "markdown",
   "metadata": {},
   "source": [
    "Since we’ve never worked with audio data or classification of audio data we wanted to try a binary example. We ask the question: can we classify animal noises using audio analysis?"
   ]
  },
  {
   "cell_type": "markdown",
   "metadata": {},
   "source": [
    "# Dataset(s)"
   ]
  },
  {
   "attachments": {},
   "cell_type": "markdown",
   "metadata": {},
   "source": [
    "*Fill in your dataset information here*\n",
    "\n",
    "(Copy this information for each dataset)\n",
    "- Dataset Name: Audio Cats and Dogs\n",
    "- Link to the dataset: [data](https://www.kaggle.com/datasets/mmoreaux/audio-cats-and-dogs)\n",
    "- Number of observations: 277\n",
    "\n",
    "The dataset consists of 277 wav files of cats and dogs. In addition, a supplemental csv of train/test splits has been provided.\n",
    "A deeper dive into the data can be found [here](https://www.kaggle.com/code/mmoreaux/a-look-into-the-data?scriptVersionId=1573551)\n",
    "where we can see that the wav files can be processed into more usable forms such as numpy arrays."
   ]
  },
  {
   "cell_type": "markdown",
   "metadata": {},
   "source": [
    "# Setup"
   ]
  },
  {
   "cell_type": "code",
   "execution_count": 30,
   "metadata": {},
   "outputs": [],
   "source": [
    "import numpy as np\n",
    "import pandas as pd\n",
    "import seaborn as sns\n",
    "import matplotlib.pyplot as plt\n",
    "import os\n",
    "import glob\n",
    "\n",
    "# audio plot \n",
    "from scipy.io import wavfile as wav\n",
    "import IPython.display as ipd\n",
    "\n",
    "# DL libraries that we may or may not need\n",
    "import tensorflow\n",
    "from sklearn.preprocessing import LabelEncoder\n",
    "from tensorflow.keras.utils import to_categorical\n",
    "from sklearn.model_selection import train_test_split\n",
    "from tensorflow.keras.models import Sequential,Model\n",
    "from tensorflow.keras.callbacks import Callback,EarlyStopping\n",
    "from sklearn.metrics import confusion_matrix, classification_report\n",
    "from tensorflow.keras.layers import Conv2D, Activation, Flatten, Dense,GlobalAveragePooling2D, Dropout"
   ]
  },
  {
   "cell_type": "code",
   "execution_count": 31,
   "metadata": {},
   "outputs": [
    {
     "name": "stdout",
     "output_type": "stream",
     "text": [
      "in Total, there are 164 cats and 115 dogs\n",
      "in X_train, there are 107 cats and 79 dogs\n",
      "in X_test, there are 57 cats and 36 dogs\n"
     ]
    }
   ],
   "source": [
    "# List the wav files\n",
    "ROOT_DIR = 'data/cats_dogs/'\n",
    "X_path = os.listdir(ROOT_DIR)\n",
    "\n",
    "# change y to int values\n",
    "y = [0 if 'cat' in f else 1 for f in X_path] \n",
    "\n",
    "# Split train and test\n",
    "X_train, X_test, y_train, y_test = train_test_split(X_path, y, test_size=0.33)\n",
    "\n",
    "print(f\"in Total, there are {len(y) - sum(y)} cats and {sum(y)} dogs\")\n",
    "print(f\"in X_train, there are {len(y_train) - sum(y_train)} cats and {sum(y_train)} dogs\")\n",
    "print(f\"in X_test, there are {len(y_test) - sum(y_test)} cats and { sum(y_test)} dogs\")"
   ]
  },
  {
   "cell_type": "code",
   "execution_count": 32,
   "metadata": {},
   "outputs": [],
   "source": [
    "path__='/data/cats_dogs/'\n",
    "p_train = '/data/cats_dogs/train/'\n",
    "p_test = '/data/cats_dogs/test/'"
   ]
  },
  {
   "attachments": {},
   "cell_type": "markdown",
   "metadata": {},
   "source": [
    "Lets read in our train test split:"
   ]
  },
  {
   "cell_type": "code",
   "execution_count": 33,
   "metadata": {},
   "outputs": [
    {
     "data": {
      "text/html": [
       "<div>\n",
       "<style scoped>\n",
       "    .dataframe tbody tr th:only-of-type {\n",
       "        vertical-align: middle;\n",
       "    }\n",
       "\n",
       "    .dataframe tbody tr th {\n",
       "        vertical-align: top;\n",
       "    }\n",
       "\n",
       "    .dataframe thead th {\n",
       "        text-align: right;\n",
       "    }\n",
       "</style>\n",
       "<table border=\"1\" class=\"dataframe\">\n",
       "  <thead>\n",
       "    <tr style=\"text-align: right;\">\n",
       "      <th></th>\n",
       "      <th>test_cat</th>\n",
       "      <th>test_dog</th>\n",
       "      <th>train_cat</th>\n",
       "      <th>train_dog</th>\n",
       "    </tr>\n",
       "  </thead>\n",
       "  <tbody>\n",
       "    <tr>\n",
       "      <th>0</th>\n",
       "      <td>cat_22.wav</td>\n",
       "      <td>dog_barking_97.wav</td>\n",
       "      <td>cat_99.wav</td>\n",
       "      <td>dog_barking_33.wav</td>\n",
       "    </tr>\n",
       "    <tr>\n",
       "      <th>1</th>\n",
       "      <td>cat_116.wav</td>\n",
       "      <td>dog_barking_0.wav</td>\n",
       "      <td>cat_54.wav</td>\n",
       "      <td>dog_barking_86.wav</td>\n",
       "    </tr>\n",
       "    <tr>\n",
       "      <th>2</th>\n",
       "      <td>cat_155.wav</td>\n",
       "      <td>dog_barking_93.wav</td>\n",
       "      <td>cat_34.wav</td>\n",
       "      <td>dog_barking_45.wav</td>\n",
       "    </tr>\n",
       "    <tr>\n",
       "      <th>3</th>\n",
       "      <td>cat_58.wav</td>\n",
       "      <td>dog_barking_10.wav</td>\n",
       "      <td>cat_132.wav</td>\n",
       "      <td>dog_barking_76.wav</td>\n",
       "    </tr>\n",
       "    <tr>\n",
       "      <th>4</th>\n",
       "      <td>cat_77.wav</td>\n",
       "      <td>dog_barking_26.wav</td>\n",
       "      <td>cat_124.wav</td>\n",
       "      <td>dog_barking_4.wav</td>\n",
       "    </tr>\n",
       "    <tr>\n",
       "      <th>...</th>\n",
       "      <td>...</td>\n",
       "      <td>...</td>\n",
       "      <td>...</td>\n",
       "      <td>...</td>\n",
       "    </tr>\n",
       "    <tr>\n",
       "      <th>110</th>\n",
       "      <td>NaN</td>\n",
       "      <td>NaN</td>\n",
       "      <td>cat_15.wav</td>\n",
       "      <td>NaN</td>\n",
       "    </tr>\n",
       "    <tr>\n",
       "      <th>111</th>\n",
       "      <td>NaN</td>\n",
       "      <td>NaN</td>\n",
       "      <td>cat_88.wav</td>\n",
       "      <td>NaN</td>\n",
       "    </tr>\n",
       "    <tr>\n",
       "      <th>112</th>\n",
       "      <td>NaN</td>\n",
       "      <td>NaN</td>\n",
       "      <td>cat_73.wav</td>\n",
       "      <td>NaN</td>\n",
       "    </tr>\n",
       "    <tr>\n",
       "      <th>113</th>\n",
       "      <td>NaN</td>\n",
       "      <td>NaN</td>\n",
       "      <td>cat_32.wav</td>\n",
       "      <td>NaN</td>\n",
       "    </tr>\n",
       "    <tr>\n",
       "      <th>114</th>\n",
       "      <td>NaN</td>\n",
       "      <td>NaN</td>\n",
       "      <td>cat_113.wav</td>\n",
       "      <td>NaN</td>\n",
       "    </tr>\n",
       "  </tbody>\n",
       "</table>\n",
       "<p>115 rows × 4 columns</p>\n",
       "</div>"
      ],
      "text/plain": [
       "        test_cat            test_dog    train_cat           train_dog\n",
       "0     cat_22.wav  dog_barking_97.wav   cat_99.wav  dog_barking_33.wav\n",
       "1    cat_116.wav   dog_barking_0.wav   cat_54.wav  dog_barking_86.wav\n",
       "2    cat_155.wav  dog_barking_93.wav   cat_34.wav  dog_barking_45.wav\n",
       "3     cat_58.wav  dog_barking_10.wav  cat_132.wav  dog_barking_76.wav\n",
       "4     cat_77.wav  dog_barking_26.wav  cat_124.wav   dog_barking_4.wav\n",
       "..           ...                 ...          ...                 ...\n",
       "110          NaN                 NaN   cat_15.wav                 NaN\n",
       "111          NaN                 NaN   cat_88.wav                 NaN\n",
       "112          NaN                 NaN   cat_73.wav                 NaN\n",
       "113          NaN                 NaN   cat_32.wav                 NaN\n",
       "114          NaN                 NaN  cat_113.wav                 NaN\n",
       "\n",
       "[115 rows x 4 columns]"
      ]
     },
     "execution_count": 33,
     "metadata": {},
     "output_type": "execute_result"
    }
   ],
   "source": [
    "df = pd.read_csv('data/train_test_split.csv')\n",
    "df = df[['test_cat', 'test_dog', 'train_cat', 'train_dog']]\n",
    "df"
   ]
  },
  {
   "attachments": {},
   "cell_type": "markdown",
   "metadata": {},
   "source": [
    "As we can see, there are a lot of NaN values because the partitions are different sizes for each. We can also see that this DataFrame is not in the most useable format, so we will load our data into a different form"
   ]
  },
  {
   "cell_type": "code",
   "execution_count": 34,
   "metadata": {},
   "outputs": [
    {
     "data": {
      "text/html": [
       "<div>\n",
       "<style scoped>\n",
       "    .dataframe tbody tr th:only-of-type {\n",
       "        vertical-align: middle;\n",
       "    }\n",
       "\n",
       "    .dataframe tbody tr th {\n",
       "        vertical-align: top;\n",
       "    }\n",
       "\n",
       "    .dataframe thead th {\n",
       "        text-align: right;\n",
       "    }\n",
       "</style>\n",
       "<table border=\"1\" class=\"dataframe\">\n",
       "  <thead>\n",
       "    <tr style=\"text-align: right;\">\n",
       "      <th></th>\n",
       "      <th>File_Path</th>\n",
       "      <th>Labels</th>\n",
       "    </tr>\n",
       "  </thead>\n",
       "  <tbody>\n",
       "  </tbody>\n",
       "</table>\n",
       "</div>"
      ],
      "text/plain": [
       "Empty DataFrame\n",
       "Columns: [File_Path, Labels]\n",
       "Index: []"
      ]
     },
     "execution_count": 34,
     "metadata": {},
     "output_type": "execute_result"
    }
   ],
   "source": [
    "data_train = list(glob.glob(p_train+'/**/*.wav')) # empty list, should be list of wav files\n",
    "data_test = list(glob.glob(p_test+'/**/*.wav')) # empty list, should be list of wav files\n",
    "\n",
    "for wav in data_train:\n",
    "    print(wav)\n",
    "\n",
    "labels = list(map(lambda x:os.path.split(os.path.split(x)[0])[1], data_train))\n",
    "file_path = pd.Series(data_train, name='File_Path', dtype='str').astype(str)\n",
    "labels = pd.Series(labels, name='Labels', dtype='str')\n",
    "\n",
    "cats_and_dogs = pd.concat([file_path, labels], axis=1)\n",
    "cats_and_dogs = cats_and_dogs.sample(frac=1).reset_index(drop=True)\n",
    "cats_and_dogs.head()"
   ]
  },
  {
   "cell_type": "markdown",
   "metadata": {},
   "source": [
    "# Data Cleaning"
   ]
  },
  {
   "cell_type": "markdown",
   "metadata": {},
   "source": [
    "Describe your data cleaning steps here."
   ]
  },
  {
   "cell_type": "code",
   "execution_count": 2,
   "metadata": {},
   "outputs": [],
   "source": [
    "## YOUR CODE HERE\n",
    "## FEEL FREE TO ADD MULTIPLE CELLS PER SECTION"
   ]
  }
 ],
 "metadata": {
  "kernelspec": {
   "display_name": "Python 3",
   "language": "python",
   "name": "python3"
  },
  "language_info": {
   "codemirror_mode": {
    "name": "ipython",
    "version": 3
   },
   "file_extension": ".py",
   "mimetype": "text/x-python",
   "name": "python",
   "nbconvert_exporter": "python",
   "pygments_lexer": "ipython3",
   "version": "3.9.4"
  },
  "vscode": {
   "interpreter": {
    "hash": "d0c5cb6bf509a02cef9c56bf2eb97e86fe98bb4322bfa6beb984e4c134a4af93"
   }
  }
 },
 "nbformat": 4,
 "nbformat_minor": 2
}
